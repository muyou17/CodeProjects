{
 "cells": [
  {
   "metadata": {},
   "cell_type": "markdown",
   "source": [
    "# Bài 2: Kiểu dữ liệu\n",
    "## I - Kiểu dữ liệu\n",
    "Trong bài 1, toàn bộ các giá trị đều là số nguyên. Trên thực tế, ngoài số nguyên ra thì giá trị còn có thể ở nhiều dạng khác.  \n",
    "Ta có thể kiểm tra kiểu dữ liệu của các giá trị bằng cách sử dụng hàm type."
   ],
   "id": "860da0c4858fa583"
  },
  {
   "cell_type": "code",
   "id": "initial_id",
   "metadata": {
    "collapsed": true
   },
   "source": [
    "print(type(5)) # Giá trị 5 có kiểu dữ liệu là int (số nguyên).\n",
    "print(type(\"Hello world!\")) # Giá trị \"Hello world!\" có kiểu dữ liệu là str (chuỗi ký tự). "
   ],
   "outputs": [],
   "execution_count": null
  },
  {
   "metadata": {},
   "cell_type": "markdown",
   "source": [
    "## II - Kiểu dữ liệu cơ bản\n",
    "Kiểu dữ liệu cơ bản là các giá trị đơn lẻ, không thể phân tách ra được nữa.\n",
    "### 1. Số nguyên (int)\n",
    "int (integer) là các số nguyên như 5, -17, 10000, 99, -4."
   ],
   "id": "5b0c5ac91b5ed83e"
  },
  {
   "metadata": {},
   "cell_type": "code",
   "source": [
    "print(type(-17))\n",
    "print(type(10000))\n",
    "x = -4\n",
    "print(type(x))"
   ],
   "id": "14b5289c6e2899fb",
   "outputs": [],
   "execution_count": null
  },
  {
   "metadata": {},
   "cell_type": "markdown",
   "source": [
    "### 2. Số thực (float)\n",
    "float (floating-point number) là các số thực như 2.8, 1.99, -3.678."
   ],
   "id": "45e9bae7f9b111b8"
  },
  {
   "metadata": {},
   "cell_type": "code",
   "source": [
    "print(type(5.7))\n",
    "print(type(-99.36))\n",
    "PI = 3.141592653589793\n",
    "print(type(PI))"
   ],
   "id": "358bf39818fe96b7",
   "outputs": [],
   "execution_count": null
  },
  {
   "metadata": {},
   "cell_type": "markdown",
   "source": [
    "### 3. Số phức (complex)\n",
    "complex (complex number) là các số phức gồm phần thực và phần ảo.  \n",
    "Khác với trong toán học, Python không sử dụng chữ i cho số ảo mà dùng chữ j."
   ],
   "id": "95e8f33e3df265ea"
  },
  {
   "metadata": {},
   "cell_type": "code",
   "source": [
    "print(type(6j))\n",
    "print(type(3+2j))\n",
    "print(type(3.14+2.7j))"
   ],
   "id": "f3407afa5222efca",
   "outputs": [],
   "execution_count": null
  },
  {
   "metadata": {},
   "cell_type": "markdown",
   "source": [
    "### 4. Chân trị (bool)\n",
    "bool (Boolean) là các giá trị True (đúng) hoặc False (sai)."
   ],
   "id": "f6bb4ed9446e541e"
  },
  {
   "metadata": {},
   "cell_type": "code",
   "source": [
    "print(type(True))\n",
    "print(type(False))"
   ],
   "id": "f4431dfbdc3d0756",
   "outputs": [],
   "execution_count": null
  },
  {
   "metadata": {},
   "cell_type": "markdown",
   "source": [
    "### 5. Không (None)\n",
    "Các biến mang giá trị None là các biến không có giá trị."
   ],
   "id": "941ee6c2074c6a11"
  },
  {
   "metadata": {},
   "cell_type": "code",
   "source": [
    "x = None\n",
    "print(type(x))"
   ],
   "id": "a479640fcedce0ee",
   "outputs": [],
   "execution_count": null
  },
  {
   "metadata": {},
   "cell_type": "markdown",
   "source": [
    "## II - Kiểu dữ liệu phức hợp\n",
    "Kiểu dữ liệu phức hợp là các giá trị chứa nhiều giá trị khác bên trong nó.  \n",
    "Các giá trị nằm bên trong giá trị phức hợp được gọi là các phần tử.\n",
    "### 1. Bộ (tuple)\n",
    "tuple là một bộ dữ liệu có thể chứa nhiều giá trị bên trong nó, gồm cả giá trị cơ bản lẫn phức hợp.  \n",
    "Ta có thể gọi ra các phần tử bên trong một tuple thông qua chỉ số của phần tử đó.  \n",
    "Các chỉ số sẽ bắt đầu từ 0 và tăng dần, nghĩa là phần tử đầu tiên sẽ có chỉ số là 0, phần tử tiếp theo là 1,…  \n",
    "tuple có tính bất biến, nghĩa là ta không thể thay đổi các phần tử bên trong tuple."
   ],
   "id": "1fd1e364a64578cf"
  },
  {
   "metadata": {},
   "cell_type": "code",
   "source": [
    "tuple_of_numbers = 3, 2.7, -7, 34+9j\n",
    "print(type(tuple_of_numbers))\n",
    "# Vì tuple có thể chứa cả giá trị phức hợp nên ta có thể để tuple bên trong tuple.\n",
    "tuple_of_tuples = ((3, 7), (9, (23, -6), 8), 44.88)\n",
    "# Để dễ nhìn cho người đọc, ta nên để các giá trị của tuple bên trong ngoặc tròn.\n",
    "bad_tuple = 2, 7\n",
    "good_tuple = (3, 14)"
   ],
   "id": "fa0a33ea5e911c8d",
   "outputs": [],
   "execution_count": null
  },
  {
   "metadata": {},
   "cell_type": "code",
   "source": [
    "tuple_of_numbers = (8.6, 26, -9, 7)\n",
    "print(tuple_of_numbers[0]) # In ra phần tử đầu tiên, tức là phần tử có chỉ số 0.\n",
    "print(tuple_of_numbers[2]) # In ra phần tử thứ ba, tức là phần tử có chỉ số 2."
   ],
   "id": "aff98a4a64cfbae0",
   "outputs": [],
   "execution_count": null
  },
  {
   "metadata": {},
   "cell_type": "markdown",
   "source": "",
   "id": "c96c54e4d0ee1857"
  }
 ],
 "metadata": {
  "kernelspec": {
   "display_name": "Python 3",
   "language": "python",
   "name": "python3"
  },
  "language_info": {
   "codemirror_mode": {
    "name": "ipython",
    "version": 2
   },
   "file_extension": ".py",
   "mimetype": "text/x-python",
   "name": "python",
   "nbconvert_exporter": "python",
   "pygments_lexer": "ipython2",
   "version": "2.7.6"
  }
 },
 "nbformat": 4,
 "nbformat_minor": 5
}
