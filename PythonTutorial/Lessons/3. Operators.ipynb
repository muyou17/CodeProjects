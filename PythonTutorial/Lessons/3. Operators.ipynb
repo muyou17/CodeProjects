{
 "cells": [
  {
   "metadata": {},
   "cell_type": "markdown",
   "source": "# Bài 3: Toán tử",
   "id": "dab29e976e7c2d47"
  },
  {
   "metadata": {},
   "cell_type": "markdown",
   "source": "## I – Toán tử số học",
   "id": "74ac0a813476c750"
  },
  {
   "metadata": {},
   "cell_type": "markdown",
   "source": "### 1. Phép cộng, trừ",
   "id": "b31fe728d08d9142"
  },
  {
   "metadata": {},
   "cell_type": "markdown",
   "source": [
    "Phép cộng trong Python được viết bằng dấu +.\n",
    "Phép trừ được viết bằng dấu -."
   ],
   "id": "2e5328afae293e81"
  },
  {
   "metadata": {},
   "cell_type": "code",
   "outputs": [],
   "execution_count": null,
   "source": [
    "print(2 + 4)\n",
    "a = 6.4\n",
    "b = 2.5\n",
    "c = a - b\n",
    "print(c)"
   ],
   "id": "ce9f1c95d991c7d9"
  },
  {
   "metadata": {},
   "cell_type": "markdown",
   "source": "### 2. Phép nhân, chia",
   "id": "f6aafabea5677461"
  },
  {
   "metadata": {},
   "cell_type": "markdown",
   "source": "Phép nhân được viết bằng dấu *.",
   "id": "ea05963c1ef21742"
  },
  {
   "metadata": {},
   "cell_type": "code",
   "outputs": [],
   "execution_count": null,
   "source": "print(3 * 4)",
   "id": "8a13b90bd55e3770"
  },
  {
   "metadata": {},
   "cell_type": "markdown",
   "source": "Khi cộng/trừ/nhân hai số cùng kiểu dữ liệu thì kết quả sẽ mang cùng kiểu dữ liệu đó, còn nếu hai số khác kiểu dữ liệu thì kết quả sẽ có kiểu dữ liệu có độ ưu tiên cao hơn: complex > float > int.",
   "id": "ad372cebd5c6a82f"
  },
  {
   "metadata": {},
   "cell_type": "code",
   "outputs": [],
   "execution_count": null,
   "source": [
    "print(type(3 + 5))\n",
    "print(type(4 - 6.2))\n",
    "print(type(3.4 * 7j))"
   ],
   "id": "20842fa1fc009ca4"
  },
  {
   "metadata": {},
   "cell_type": "markdown",
   "source": [
    "Phép chia được viết bằng dấu /.  \n",
    "Kết quả của phép chia chỉ có thể là complex hoặc float chứ không thể là int."
   ],
   "id": "43dd5eae9fb7fcea"
  },
  {
   "metadata": {},
   "cell_type": "code",
   "outputs": [],
   "execution_count": null,
   "source": [
    "x = 12 / 4\n",
    "print(x, type(x))\n",
    "print(11 / 3)"
   ],
   "id": "7712f4fd3a30ca8"
  },
  {
   "metadata": {},
   "cell_type": "markdown",
   "source": [
    "Phép chia bỏ phần dư được viết bằng dấu //.  \n",
    "Phép chia lấy phần dư được viết bằng dấu %.  \n",
    "Không thể dùng complex để chia bỏ phần dư.  \n",
    "Kết quả của phép chia có kiểu dữ liệu có độ ưu tiên cao hơn tương tự như phép nhân.  "
   ],
   "id": "33990bf67cfd6342"
  },
  {
   "metadata": {},
   "cell_type": "code",
   "outputs": [],
   "execution_count": null,
   "source": [
    "print(15 // 2)\n",
    "y = 5.8 // 4\n",
    "print(y, type(y))"
   ],
   "id": "ddc17e3272ea04b7"
  },
  {
   "metadata": {},
   "cell_type": "code",
   "outputs": [],
   "execution_count": null,
   "source": [
    "print(43 % 5) # Dư 3 vì 40 chia hết cho 5\n",
    "z = 6 % 1.25\n",
    "print(z, type(z))"
   ],
   "id": "de72daac6980abf4"
  },
  {
   "metadata": {},
   "cell_type": "markdown",
   "source": "Hàm divmod có thể được sử dụng để nhận về một tuple gồm kết quả của phép chia bỏ dư và lấy dư của hai số đó.",
   "id": "825f3fcad515df86"
  },
  {
   "metadata": {},
   "cell_type": "code",
   "outputs": [],
   "execution_count": null,
   "source": [
    "print(divmod(14, 3))\n",
    "a, b = divmod(71, 9)\n",
    "print(a)\n",
    "print(b)"
   ],
   "id": "931e653ac893b215"
  },
  {
   "metadata": {},
   "cell_type": "markdown",
   "source": "### 3. Luỹ thừa",
   "id": "68fe2e09cc23558a"
  },
  {
   "metadata": {},
   "cell_type": "markdown",
   "source": [
    "Luỹ thừa trong Python được viết bằng dấu **.  \n",
    "Kết quả của phép luỹ thừa có thể là một trong ba kiểu dữ liệu số theo đúng thứ tự ưu tiên."
   ],
   "id": "ec0d90b165138975"
  },
  {
   "metadata": {},
   "cell_type": "code",
   "outputs": [],
   "execution_count": null,
   "source": [
    "print(2 ** 3)\n",
    "print(6.5 ** -1)\n",
    "print(5j ** 2)"
   ],
   "id": "2d5ae245e3a78e45"
  },
  {
   "metadata": {},
   "cell_type": "markdown",
   "source": "Có thể dùng hàm pow để nhận về kết quả của một phép luỹ thừa thay vì sử dụng dấu **.",
   "id": "685fa6893321b31a"
  },
  {
   "metadata": {},
   "cell_type": "code",
   "outputs": [],
   "execution_count": null,
   "source": "print(pow(3, 3))",
   "id": "6d31a5b50fc41209"
  },
  {
   "metadata": {},
   "cell_type": "markdown",
   "source": "## II - Toán tử chân trị",
   "id": "ef403a695593fa30"
  },
  {
   "metadata": {},
   "cell_type": "markdown",
   "source": "Kết quả của toán tử chân trị là một bool (True hoặc False).",
   "id": "ca84071e1a02a157"
  },
  {
   "metadata": {},
   "cell_type": "markdown",
   "source": "### 1. So sánh",
   "id": "c9406ff965445939"
  },
  {
   "metadata": {},
   "cell_type": "markdown",
   "source": [
    "Toán tử so sánh dùng để so sánh các giá trị.  \n",
    "Python có 6 phép so sánh:  \n",
    "Bằng: ==  \n",
    "Khác: !=  \n",
    "Lớn hơn: >  \n",
    "Bé hơn : <  \n",
    "Lớn hơn hoặc bằng: >=  \n",
    "Bé hơn hoặc bằng: <="
   ],
   "id": "11e1f309b281982f"
  },
  {
   "metadata": {},
   "cell_type": "code",
   "outputs": [],
   "execution_count": null,
   "source": [
    "print(2 + 1 == 3)\n",
    "print(4 != 3)\n",
    "print(7 >= 6)\n",
    "print(3 * 6 < 15)\n",
    "print(2.0 <= 2)"
   ],
   "id": "3cf5201dd931f721"
  },
  {
   "metadata": {},
   "cell_type": "markdown",
   "source": "Nếu hai giá trị được so sánh khác kiểu dữ liệu thì xảy ra lỗi kiểu dữ liệu (TypeError).",
   "id": "787092c9417ce719"
  },
  {
   "metadata": {},
   "cell_type": "code",
   "outputs": [],
   "execution_count": null,
   "source": "print(3 < '3')",
   "id": "f169007335a3d845"
  },
  {
   "metadata": {},
   "cell_type": "markdown",
   "source": "Khi so sánh hai giá trị phức hợp có cùng kiểu dữ liệu với nhau, Python sẽ so từng cặp giá trị từ trái sang phải rồi dừng ở hai giá trị đầu tiên khác nhau.",
   "id": "743c9a64a2888d45"
  },
  {
   "metadata": {},
   "cell_type": "code",
   "outputs": [],
   "execution_count": null,
   "source": [
    "numbers = (1, 2)\n",
    "print(numbers == (1, 2))\n",
    "print((2, 4) != numbers)"
   ],
   "id": "49e6e52805bc05bc"
  },
  {
   "metadata": {},
   "cell_type": "code",
   "outputs": [],
   "execution_count": null,
   "source": [
    "tuple_1 = (1, 2, 3)\n",
    "tuple_2 = (1, 3, 2)\n",
    "print(tuple_1 < tuple_2) # 1 == 1, bỏ qua. 2 < 3, vậy phép so sánh này đúng."
   ],
   "id": "a34df745c89223e2"
  },
  {
   "metadata": {},
   "cell_type": "markdown",
   "source": "Khi so sánh các ký tự với nhau thì Python sẽ so bằng mã Unicode của chúng.",
   "id": "4d7438e9033d7cb4"
  },
  {
   "metadata": {},
   "cell_type": "code",
   "outputs": [],
   "execution_count": null,
   "source": "print('a' <= 'A') # 97 <= 65",
   "id": "e6be0891c4ff47c5"
  },
  {
   "metadata": {},
   "cell_type": "code",
   "outputs": [],
   "execution_count": null,
   "source": "print(\"hello\" >= \"hi\") # 104 == 104, bỏ qua. 101 < 105, vậy phép so này sai.",
   "id": "a44110ebc3747465"
  },
  {
   "metadata": {},
   "cell_type": "markdown",
   "source": "### 2. Logic",
   "id": "6d026a6ef31d5365"
  },
  {
   "metadata": {},
   "cell_type": "markdown",
   "source": "Khi ta đặt hai bool cạnh nhau được ngăn cách bởi từ khoá and, chúng sẽ trả về giá trị True nếu cả hai giá trị đều là True.",
   "id": "a4e9fc1e82bbf86e"
  },
  {
   "metadata": {},
   "cell_type": "code",
   "outputs": [],
   "execution_count": null,
   "source": [
    "print(True and True)\n",
    "print(True and False)\n",
    "print(False and False)\n",
    "print(10 > 2 and 3 ** 3 <= 9)\n",
    "print(6 != 7 and 7 != 7.0)"
   ],
   "id": "21bced172cd2c2a8"
  },
  {
   "metadata": {},
   "cell_type": "markdown",
   "source": "or tương tự như and nhưng chỉ cần một trong hai giá trị là True vẫn sẽ trả về True.",
   "id": "7359ce3b6db32178"
  },
  {
   "metadata": {},
   "cell_type": "code",
   "outputs": [],
   "execution_count": null,
   "source": [
    "print(True or True)\n",
    "print(True or False)\n",
    "print(False or False)\n",
    "print(4 - 2 == 2 or 1.0 != 1)"
   ],
   "id": "ea0fa8060f557ab9"
  },
  {
   "metadata": {},
   "cell_type": "markdown",
   "source": "not đảo ngược giá trị bool từ True thành False, từ False thành True.",
   "id": "23635c7c178e20e9"
  },
  {
   "metadata": {},
   "cell_type": "code",
   "outputs": [],
   "execution_count": null,
   "source": [
    "print(not True)\n",
    "print(not False)\n",
    "print(not 6 > 6)\n",
    "print(not (not 5 != 5 and True))"
   ],
   "id": "e014de0370193ef5"
  },
  {
   "metadata": {},
   "cell_type": "markdown",
   "source": "### 3. Thành viên",
   "id": "e75836e010208456"
  },
  {
   "metadata": {},
   "cell_type": "markdown",
   "source": "Ta có thể dùng từ khoá in để kiểm tra xem một giá trị có là một phần tử thuộc một giá trị phức hợp khác hay không.",
   "id": "bb71d6089c70f659"
  },
  {
   "metadata": {},
   "cell_type": "code",
   "outputs": [],
   "execution_count": null,
   "source": [
    "print(1 in (1, 2, 3))\n",
    "print(8 in {3, 5, 7, 9})\n",
    "print([2, 4] in [2, 4, 6])"
   ],
   "id": "9d22996af35ea34a"
  },
  {
   "metadata": {},
   "cell_type": "markdown",
   "source": "not in có tác dụng ngược lại với in.",
   "id": "11a9694448a65c2"
  },
  {
   "metadata": {},
   "cell_type": "code",
   "outputs": [],
   "execution_count": null,
   "source": [
    "print(3 not in {'3': 3})\n",
    "print((2, 4) not in [(1, 3), (2, 4)])"
   ],
   "id": "aeaff0e8252b150d"
  },
  {
   "metadata": {},
   "cell_type": "markdown",
   "source": "### 4. Danh tính",
   "id": "2c890e07019038f0"
  },
  {
   "metadata": {},
   "cell_type": "markdown",
   "source": "Từ khoá is dùng để kiểm tra xem hai đối tượng có chỉ đến cùng một vị trí trong bộ nhớ hay không.",
   "id": "6a5433c2189f9d6f"
  },
  {
   "metadata": {},
   "cell_type": "code",
   "outputs": [],
   "execution_count": null,
   "source": [
    "a = 7\n",
    "b = 7\n",
    "print(a == b) # Giá trị của a và b đều là 7.\n",
    "# Python lưu giá trị của a và b vào cùng một nơi trong bộ nhớ để tiết kiệm dung lượng thay vì lưu vào hai nơi khác nhau.\n",
    "print(a is b)"
   ],
   "id": "77b6291f742a314"
  },
  {
   "metadata": {},
   "cell_type": "markdown",
   "source": "Đối với các đối tượng phức hợp, đôi khi có thể có hai phần tử cùng giá trị nhưng khác danh tính.",
   "id": "5d3b96dbfddcde06"
  },
  {
   "metadata": {},
   "cell_type": "code",
   "outputs": [],
   "execution_count": null,
   "source": [
    "str_a = \"hello\"\n",
    "str_b = \"hello\".lower()\n",
    "print(str_a == str_b)\n",
    "print(str_a is str_b)"
   ],
   "id": "422ba6882a29f2e1"
  },
  {
   "metadata": {},
   "cell_type": "markdown",
   "source": "is not ngược lại với is.",
   "id": "b71a0922426bcef6"
  },
  {
   "metadata": {},
   "cell_type": "code",
   "outputs": [],
   "execution_count": null,
   "source": [
    "example = (1, 2)\n",
    "print(example is not (1, 2))"
   ],
   "id": "3d1cb85ef513d0a8"
  },
  {
   "metadata": {},
   "cell_type": "markdown",
   "source": "Python xác định danh tính của các đối tượng thông qua ID của chúng. Ta có thể xem ID của một đối tượng thông qua hàm id.",
   "id": "c4d7be87373b6317"
  },
  {
   "metadata": {},
   "cell_type": "code",
   "outputs": [],
   "execution_count": null,
   "source": "print(id(example))",
   "id": "865beda0ec6f8021"
  },
  {
   "metadata": {},
   "cell_type": "code",
   "outputs": [],
   "execution_count": null,
   "source": [
    "# Dù giá trị giống nhau nhưng ID thì lại khác nhau nên khi nãy str_a is str_b trả về False.\n",
    "print(f\"{str_a = }\\nID: {id(str_a)}\")\n",
    "print(f\"{str_b = }\\nID: {id(str_b)}\")"
   ],
   "id": "f4ef3726c6270da4"
  },
  {
   "metadata": {},
   "cell_type": "markdown",
   "source": "## III - Toán tử nhị phân",
   "id": "9790fc7d68cc1150"
  },
  {
   "metadata": {},
   "cell_type": "markdown",
   "source": "### 1. Chân trị theo nhị phân",
   "id": "9faf8ac5af0b003a"
  },
  {
   "metadata": {},
   "cell_type": "markdown",
   "source": [
    "Ta có thể áp dụng các toán tử chân trị theo nhị phân với các số nguyên.  \n",
    "Những toán tử này sẽ thay đổi giá trị nhị phân theo quy tắc tương tự như với bool.  \n",
    "1 tương đương với True, 0 tương đương với False."
   ],
   "id": "2339b8239e7b9d54"
  },
  {
   "metadata": {},
   "cell_type": "code",
   "outputs": [],
   "execution_count": null,
   "source": [
    "a = 24 # 24 ở dạng nhị phân là 11000.\n",
    "b = 13 # 13 ở dạng nhị phân là 01101.\n",
    "print(a & b) # 8 ở dạng nhị phân là 00100."
   ],
   "id": "3947bbd2aadaf2e1"
  },
  {
   "metadata": {},
   "cell_type": "markdown",
   "source": "Ta có thể dùng hàm bin để hiển thị giá trị nhị phân của một số nguyên với tiền tố 0b ở đầu.",
   "id": "b75b551c6c717c8b"
  },
  {
   "metadata": {},
   "cell_type": "code",
   "outputs": [],
   "execution_count": null,
   "source": [
    "c = a | b\n",
    "print(c)\n",
    "print(bin(c))"
   ],
   "id": "84a1653de2c2ca57"
  },
  {
   "metadata": {},
   "cell_type": "markdown",
   "source": [
    "Các toán tử chân trị theo bit:  \n",
    "And: &  \n",
    "Or: |  \n",
    "Xor: ^  \n",
    "Not: ~"
   ],
   "id": "c054e802fd16f40d"
  },
  {
   "metadata": {},
   "cell_type": "code",
   "outputs": [],
   "execution_count": null,
   "source": [
    "# xor giống với or nhưng hai giá trị 1 sẽ được tính là 0.\n",
    "print(0 ^ 0)\n",
    "print(1 ^ 0)\n",
    "print(1 ^ 1)"
   ],
   "id": "ea4479c6f420e303"
  },
  {
   "metadata": {},
   "cell_type": "code",
   "outputs": [],
   "execution_count": null,
   "source": [
    "print(~(1 & 0))\n",
    "print((1 | 0) ^ 1)"
   ],
   "id": "c2403cc62dbadb15"
  },
  {
   "metadata": {},
   "cell_type": "markdown",
   "source": "### 2. Dịch bit",
   "id": "267e14fde0d6489e"
  },
  {
   "metadata": {},
   "cell_type": "markdown",
   "source": "Các số nguyên có thể được dịch chuyển giá trị nhị phân sang trái hoặc phải.",
   "id": "9d86f636f52db45"
  },
  {
   "metadata": {},
   "cell_type": "markdown",
   "source": "#### a) Dịch bit sang trái",
   "id": "729b44e5939cd906"
  },
  {
   "metadata": {},
   "cell_type": "markdown",
   "source": [
    "Dịch bit sang trái nghĩa là ta thêm số 0 vào bên phải giá trị nhị phân của số nguyên.  \n",
    "Cú pháp: *số_nguyên* << *số_lượng_bit*"
   ],
   "id": "9c34781dacb126be"
  },
  {
   "metadata": {},
   "cell_type": "code",
   "outputs": [],
   "execution_count": null,
   "source": [
    "x =3 # 0b11\n",
    "print(x << 2) # 0b1100"
   ],
   "id": "c05c3be1c195f202"
  },
  {
   "metadata": {},
   "cell_type": "markdown",
   "source": "#### a) Dịch bit sang phải",
   "id": "8300862391919b37"
  },
  {
   "metadata": {},
   "cell_type": "markdown",
   "source": [
    "Dịch bit sang phải nghĩa là ta bỏ bớt bit ở bên phải giá trị nhị phân của số nguyên.  \n",
    "Cú pháp: *số_nguyên* << *số_lượng_bit*"
   ],
   "id": "ac68c0bac5008def"
  },
  {
   "metadata": {},
   "cell_type": "code",
   "outputs": [],
   "execution_count": null,
   "source": [
    "y = 34 # 0b100010\n",
    "print(x >> 3) # 0b100"
   ],
   "id": "c206418ce041f97a"
  },
  {
   "metadata": {},
   "cell_type": "markdown",
   "source": "## IV - Toán tử gán giá trị",
   "id": "c1573bc6b53de502"
  },
  {
   "metadata": {},
   "cell_type": "markdown",
   "source": "### 1. Tăng/giảm giá trị của biến",
   "id": "b8aa795e1f000181"
  },
  {
   "metadata": {},
   "cell_type": "markdown",
   "source": [
    "Ngoài việc sử dụng dấu = để gán giá trị mới cho biến, chúng ta có thể kết hợp các toán tử với dấu = để tính toán và gán giá trị cùng lúc cho biến đó.  \n",
    "Ví dụ: Để cộng thêm một giá trị vào biến hiện tại, ta dùng +=. Để trừ đi một giá trị, ta dùng -=, và tương tự với các toán tử khác.  \n",
    "Khi ta viết x += 5, chương trình sẽ tự động hiểu là: Cộng 5 vào giá trị hiện tại của x rồi gán lại kết quả vào x. Điều này tương đương với viết x = x + 5, nhưng ngắn gọn và dễ đọc hơn."
   ],
   "id": "2656201ed73e18c5"
  },
  {
   "metadata": {},
   "cell_type": "code",
   "outputs": [],
   "execution_count": null,
   "source": [
    "z = 6\n",
    "z -= 2\n",
    "print(z)\n",
    "z *= 9\n",
    "print(z)\n",
    "z >>= 1\n",
    "print(z)\n",
    "z //= 6\n",
    "print(z)\n",
    "z %= 2\n",
    "print(z)"
   ],
   "id": "bbbf9aca28caa711"
  },
  {
   "metadata": {},
   "cell_type": "markdown",
   "source": "### 2. Gán biểu thức",
   "id": "a64900247abbb568"
  },
  {
   "metadata": {},
   "cell_type": "markdown",
   "source": "Ta có thể gán giá trị vào một biến và sử dụng giá trị đó cùng một lúc khi sử dụng dấu :=.",
   "id": "ea93af80ce0fa7e8"
  },
  {
   "metadata": {},
   "cell_type": "code",
   "outputs": [],
   "execution_count": null,
   "source": [
    "print(n := 2 + 3) # Gán n là 5 và in n ra bảng lệnh cùng lúc.\n",
    "print(n - 1)"
   ],
   "id": "e82667f32b5bceec"
  },
  {
   "metadata": {},
   "cell_type": "markdown",
   "source": "### 3. Kết hợp giá trị phức hợp",
   "id": "12ea3a47a86a1882"
  },
  {
   "metadata": {},
   "cell_type": "markdown",
   "source": "Tương tự như với số, ta cũng có thể ghi đè giá trị mới vào giá trị phức hợp cũ bằng toán tử gán.",
   "id": "756b6d4a3fa28069"
  },
  {
   "metadata": {},
   "cell_type": "code",
   "outputs": [],
   "execution_count": null,
   "source": [
    "print(example_tuple := (1, 2, 3))\n",
    "example_tuple += (1, 2)\n",
    "print(example_tuple)\n",
    "example_tuple -= (3, 1, 2)\n",
    "print(example_tuple)\n",
    "example_tuple *= 3\n",
    "print(example_tuple)"
   ],
   "id": "668afd2db6f8df98"
  },
  {
   "metadata": {},
   "cell_type": "markdown",
   "source": "## V - Thứ tự ưu tiên thực hiện",
   "id": "56c1a3ebf4ae397e"
  },
  {
   "metadata": {},
   "cell_type": "markdown",
   "source": [
    "Khi xác định giá trị của một biểu thức gồm nhiều toán tử, Python ưu tiên thực hiện các phép tính theo thứ tự sau đây:  \n",
    "1. Trong ngoặc: ()\n",
    "2. Dương: +\n",
    "3. Âm: -\n",
    "4. Not nhị phân: ~\n",
    "5. Luỹ thừa: **\n",
    "6. Nhân, chia: *, /, //, %\n",
    "7. Cộng, trừ: +, -\n",
    "8. Dịch bit: <<, >>\n",
    "9. So sánh: ==, !=, >, <, >=, <=\n",
    "10. Danh tính: is, is not\n",
    "11. Thành viên: in, not in\n",
    "12. And nhị phân: &\n",
    "13. Xor nhị phân: ^\n",
    "14. Or nhị phân: |\n",
    "15. Logical not: not\n",
    "16. Logical and: and\n",
    "17. Logical or: or\n",
    "18. Gán: =, :=, +=, -=, *=, /=, //=, %=, **=, &=, |=, ^=, >>=, <<=  \n",
    "  \n",
    "Khi các toán tử có cùng độ ưu tiên thì tính từ trái sang phải."
   ],
   "id": "7368a49f1257d1b4"
  }
 ],
 "metadata": {
  "kernelspec": {
   "display_name": "Python 3",
   "language": "python",
   "name": "python3"
  },
  "language_info": {
   "codemirror_mode": {
    "name": "ipython",
    "version": 2
   },
   "file_extension": ".py",
   "mimetype": "text/x-python",
   "name": "python",
   "nbconvert_exporter": "python",
   "pygments_lexer": "ipython2",
   "version": "2.7.6"
  }
 },
 "nbformat": 4,
 "nbformat_minor": 5
}
