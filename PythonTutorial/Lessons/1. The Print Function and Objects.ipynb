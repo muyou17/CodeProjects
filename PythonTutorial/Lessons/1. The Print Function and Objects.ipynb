{
 "cells": [
  {
   "metadata": {},
   "cell_type": "markdown",
   "source": "# Bài 1: Hàm Print và Các Đối Tượng",
   "id": "3722d17aa5ea1bff"
  },
  {
   "metadata": {},
   "cell_type": "markdown",
   "source": "## I - Hàm **print**",
   "id": "c2631cf5bb080713"
  },
  {
   "metadata": {},
   "cell_type": "markdown",
   "source": "Có thể hiển thị giá trị ra bảng lệnh (console) bằng cách để giá trị đó vào trong dấu ngoặc của hàm **print**.",
   "id": "101873f8b434b92f"
  },
  {
   "metadata": {},
   "cell_type": "code",
   "outputs": [],
   "execution_count": null,
   "source": "print(7) # Dòng lệnh này sẽ hiển thị số 7 ra bảng lệnh.",
   "id": "5dc1c43c99aa94cb"
  },
  {
   "metadata": {},
   "cell_type": "markdown",
   "source": "Có thể hiển thị nhiều giá trị cùng lúc ngăn cách bởi dấu phẩy.",
   "id": "520e9482dcfb1f28"
  },
  {
   "metadata": {},
   "cell_type": "code",
   "outputs": [],
   "execution_count": null,
   "source": "print(1, 2, 3, 4)",
   "id": "da6a0d3c4c541eb8"
  },
  {
   "metadata": {},
   "cell_type": "markdown",
   "source": "Giá trị mặc định sau khi in ra các giá trị trong ngoặc là ký tự xuống dòng ('\\n'). Ta có thể thay đổi giá trị này bằng từ khóa end.",
   "id": "48ac2c20312ff288"
  },
  {
   "metadata": {},
   "cell_type": "code",
   "outputs": [],
   "execution_count": null,
   "source": [
    "print(2) # Dòng lệnh này tương đương với print(2, end='\\n')\n",
    "print(3) # Python tự động xuống dòng để in tiếp.\n",
    "print(4, end='1') # Thay vì ký tự xuống dòng thì ta thay cuối lệnh thành giá trị khác.\n",
    "print(5) # Do không còn ký tự xuống dòng ở sau số 4 nên số 5 sẽ nằm cùng dòng."
   ],
   "id": "45cc796ec08636d3"
  },
  {
   "metadata": {},
   "cell_type": "markdown",
   "source": "Khi in nhiều giá trị cùng lúc thì giá trị mặc định để ngăn cách khi in là dấu cách (' '). Ta có thể thay đổi nó bằng từ khóa sep.",
   "id": "bdf4a013d18461fd"
  },
  {
   "metadata": {},
   "cell_type": "code",
   "outputs": [],
   "execution_count": null,
   "source": [
    "print(6, 7, 8) # Các số này cách nhau bởi dấu cách.\n",
    "print(9, 10, 11, 12, sep='\\n') # Các số này cách nhau bởi ký tự xuống dòng\n",
    "print(-4, -3, -2, -1, sep='hmm') # Các số này cách nhau bởi giá trị 'hmm'."
   ],
   "id": "f6f53755e8c4cce7"
  },
  {
   "metadata": {},
   "cell_type": "code",
   "outputs": [],
   "execution_count": null,
   "source": [
    "print(0, 10, 20, 30, sep=' ', end='\\n') # Đây là những giá trị mặc định của Python.\n",
    "# Thay giá trị ngăn cách thành ký tự trống (không ký tự) và đổi giá trị kết thúc thành 'hehe'.\n",
    "print(60, 70, 80, 90, sep='', end='hehe')"
   ],
   "id": "61226107594d5f76"
  },
  {
   "metadata": {},
   "cell_type": "markdown",
   "source": "## II - Biến",
   "id": "673ef2172cdba61f"
  },
  {
   "metadata": {},
   "cell_type": "markdown",
   "source": "### 1. Gán giá trị cho biến",
   "id": "94aab8c14e10467d"
  },
  {
   "metadata": {},
   "cell_type": "markdown",
   "source": [
    "Biến (variable) là các từ khóa đại diện cho một giá trị, tương tự như định nghĩa trong toán học.  \n",
    "Để gán (assign) giá trị cho một biến, viết tên của biến và giá trị theo cú pháp: *tên_biến* = *giá_trị*.  \n",
    "Dấu = trong Python được gọi là dấu gán giá trị."
   ],
   "id": "73d1eff3f2f6cd53"
  },
  {
   "metadata": {},
   "cell_type": "code",
   "outputs": [],
   "execution_count": null,
   "source": [
    "x = 6 # Ở đây, một biến tên x đã được gán giá trị là số 6.\n",
    "print(x) # Khi ta in x ra bảng lệnh, bảng lệnh sẽ hiển thị số 6 vì x đang mang giá trị là 6."
   ],
   "id": "7c63dc96c7f358db"
  },
  {
   "metadata": {},
   "cell_type": "markdown",
   "source": "Khi sử dụng một biến mà biến này chưa từng được gán giá trị nào thì chương trình sẽ phát sinh lỗi tên biến (NameError).",
   "id": "f7032b1f7145588"
  },
  {
   "metadata": {},
   "cell_type": "code",
   "outputs": [],
   "execution_count": null,
   "source": [
    "# Khi chạy sẽ xảy ra lỗi tên biến (NameError) do baz chưa được gán giá trị\n",
    "print(baz)"
   ],
   "id": "1a11d4f23fd367bb"
  },
  {
   "metadata": {},
   "cell_type": "markdown",
   "source": "### 2. Ghi đè giá trị",
   "id": "642dfac2fb4fa4c5"
  },
  {
   "metadata": {},
   "cell_type": "markdown",
   "source": "Khi một biến đã có giá trị nhưng lại được gán thêm một giá trị khác thì biến đó sẽ bỏ qua giá trị cũ và mang giá trị mới.",
   "id": "de70d2c7332fe03d"
  },
  {
   "metadata": {},
   "cell_type": "code",
   "outputs": [],
   "execution_count": null,
   "source": [
    "y = 2 # Gán cho biến y giá trị là 2.\n",
    "y = 4 # Gán giá trị cho biến y thành 4.\n",
    "# Số 4 được hiển thị ra bảng lệnh do sau khi được gán giá trị là 2,\n",
    "# biến y bị ghi đè giá trị thành 4 nên không còn mang giá trị 2 nữa.\n",
    "print(y) "
   ],
   "id": "43ebd827f174f8f8"
  },
  {
   "metadata": {},
   "cell_type": "code",
   "outputs": [],
   "execution_count": null,
   "source": [
    "# Khi biến đã có giá trị thì ta có thể gán lại giá trị cho biến là chính nó.\n",
    "foo = 9\n",
    "foo = foo"
   ],
   "id": "d31891c39c1a60db"
  },
  {
   "metadata": {},
   "cell_type": "markdown",
   "source": "### 3. Xóa biến",
   "id": "bb13235983f71194"
  },
  {
   "metadata": {},
   "cell_type": "markdown",
   "source": [
    "Khi không còn dùng đến một biến nữa, ta có thể xóa nó đi bằng từ khóa (keyword) **del**.  \n",
    "Cú pháp: **del** *tên_biến*"
   ],
   "id": "501fa04d4f087673"
  },
  {
   "metadata": {},
   "cell_type": "code",
   "outputs": [],
   "execution_count": null,
   "source": [
    "del foo\n",
    "print(foo) # Dòng này sẽ lỗi vì foo đã bị xóa khỏi chương trình"
   ],
   "id": "eb3c5d5682ba2f56"
  },
  {
   "metadata": {},
   "cell_type": "markdown",
   "source": "### 4. Quy tắc đặt tên biến",
   "id": "817977fe82bae485"
  },
  {
   "metadata": {},
   "cell_type": "markdown",
   "source": "#### a) Dấu cách và ký tự bắt đầu tên biến",
   "id": "3ea5945dab29cf7c"
  },
  {
   "metadata": {},
   "cell_type": "markdown",
   "source": [
    "Tên biến không được chứa dấu cách hay ký tự đặc biệt ngoại trừ dấu gạch dưới và không được bắt đầu bằng số.  \n",
    "Để đặt tên biến gồm nhiều từ, ta sử dụng dấu gạch dưới để phân cách các từ."
   ],
   "id": "bb91842d6dd547cc"
  },
  {
   "metadata": {},
   "cell_type": "code",
   "outputs": [],
   "execution_count": null,
   "source": [
    "this_is_an_example_of_a_valid_variable_name = 0\n",
    "_this_is_also_valid = 1\n",
    "# đây là một tên biến không hợp lệ vì nó có chứa dấu cách\n",
    "# 1đây_là_một_tên_biến_không_hợp_lệ_vì_nó_bắt_đầu_bằng_số\n",
    "# !đây_là_một_tên_biến_không_hợp_lệ_vì_nó_bắt_đầu_bằng_ký_tự_đặc_biệt"
   ],
   "id": "6e4ea5573824f5b4"
  },
  {
   "metadata": {},
   "cell_type": "markdown",
   "source": "#### b) Từ khóa đặc biệt",
   "id": "f8b19d2f3ea4120c"
  },
  {
   "metadata": {},
   "cell_type": "markdown",
   "source": [
    "Tên biến không được phép là các từ khóa đặc biệt mà Python sử dụng như **del**, **None**, **True**, **match**, **class**, **def**,…  \n",
    "Chúng ta sẽ học nhiều hơn về các từ khóa đặc biệt này trong các bài học sau.  \n",
    "Các từ khóa đặc biệt của Python sẽ được IDE tô màu khác với các từ thông thường.  \n",
    "Ví dụ: PyCharm sẽ tô màu các từ khóa đặc biệt thành màu cam, JupyterLab hay Colab sẽ tô thành màu hồng hoặc xanh."
   ],
   "id": "6e7295e0a57c61c5"
  },
  {
   "metadata": {},
   "cell_type": "code",
   "outputs": [],
   "execution_count": null,
   "source": [
    "# Toàn bộ các dòng lệnh này đều sẽ lỗi.\n",
    "yield = 1\n",
    "async = 13\n",
    "assert = 29\n",
    "with = 4"
   ],
   "id": "8025a51154aeacc6"
  },
  {
   "metadata": {},
   "cell_type": "markdown",
   "source": "#### d) Quy ước cho lập trình viên",
   "id": "c940b610d6fbc22b"
  },
  {
   "metadata": {},
   "cell_type": "markdown",
   "source": [
    "Ngoài các quy tắc mà chúng ta bắt buộc phải tuân theo để chương trình có thể chạy thì Python còn có thêm các quy ước dù không tuân theo chương trình vẫn sẽ chạy nhưng một tên biến không tốt sẽ khiến cho chương trình chúng ta viết ra trở nên khó đọc khó hiểu hơn.  \n",
    "Nên nhớ rằng chương trình mà chúng ta viết không chỉ có máy chạy mà con người (chúng ta hoặc người khác) cũng cần phải đọc nó nữa."
   ],
   "id": "e722882eca9c1def"
  },
  {
   "metadata": {},
   "cell_type": "code",
   "outputs": [],
   "execution_count": null,
   "source": [
    "# Tên biến phải được viết bằng chữ in thường, không được là chữ in hoa.\n",
    "This_Is_A_Bad_Variable_Name = 1\n",
    "Do_not_name_your_variable_like_this = 2\n",
    "NEVER_NAME_YOUR_VARIABLE_LIKE_THIS = 3"
   ],
   "id": "50140ec5404f9098"
  },
  {
   "metadata": {},
   "cell_type": "code",
   "outputs": [],
   "execution_count": null,
   "source": [
    "# Không được viết dính các từ trong tên biến.\n",
    "dontnameyourvariablelikethis = 4"
   ],
   "id": "1798901d7d7f87bb"
  },
  {
   "metadata": {},
   "cell_type": "code",
   "outputs": [],
   "execution_count": null,
   "source": [
    "# Tên biến nên chi tiết và chỉ ra biến đó là gì, đừng đặt quá ngắn gọn.\n",
    "# Ví dụ: khi ta cần một biến để lưu số lượng quả táo nằm trong giỏ thì ta nên nói rõ điều đó trong tên biến.\n",
    "amount_of_apples_in_basket = 10\n",
    "# Nếu viết ngắn gọn quá mức như thế này thì không ai có thể hiểu được số 10 là giá trị của cái gì cả.\n",
    "a = 10"
   ],
   "id": "c09fdb27548fb670"
  },
  {
   "metadata": {},
   "cell_type": "code",
   "outputs": [],
   "execution_count": null,
   "source": [
    "# Dù ta có thể viết tên biến bằng bất cứ ngôn ngữ nào nhưng nên sử dụng tiếng Anh để chương trình\n",
    "# có thể được đọc bởi mọi người vì đó là ngôn ngữ quốc tế và là tiêu chuẩn trong nghành lập trình.\n",
    "đừng_đặt_tên_biến_bằng_tiếng_Việt = 0"
   ],
   "id": "d503208d13116a4d"
  },
  {
   "metadata": {},
   "cell_type": "markdown",
   "source": "### 5. Hằng",
   "id": "ebacfa1b282ebb81"
  },
  {
   "metadata": {},
   "cell_type": "markdown",
   "source": "Hằng (constant) cũng là từ khóa chỉ đến một giá trị như biến, nhưng giá trị của hằng không bị thay đổi như biến.",
   "id": "ab6cacf73418bf13"
  },
  {
   "metadata": {},
   "cell_type": "code",
   "outputs": [],
   "execution_count": null,
   "source": "X = 9 # X một khi đã được gán giá trị 9 thì không bao giờ được thay đổi thành số khác.",
   "id": "eaa7da27cc0db36a"
  },
  {
   "metadata": {},
   "cell_type": "markdown",
   "source": "Thực chất thì hằng chỉ tồn tại trong ngôn ngữ lập trình khác, không có trong Python.",
   "id": "25dec1b474da6add"
  },
  {
   "metadata": {},
   "cell_type": "code",
   "outputs": [],
   "execution_count": null,
   "source": [
    "X = 10 # Gán giá trị 10 cho X\n",
    "X = 11 # Ghi đè giá trị của X thành 11\n",
    "print(X) # X vẫn bị ghi đè vì thực chất nó vẫn là biến, không phải hằng thực sự."
   ],
   "id": "7351c45607e1455d"
  },
  {
   "metadata": {},
   "cell_type": "markdown",
   "source": [
    "Tuy nhiên, hằng đôi lúc vẫn cần thiết trong lập trình để các lập trình viên có thể tự tin cho rằng giá trị của cái tên này sẽ luôn như cũ, không bao giờ bị ghi đè.  \n",
    "Vì thế, họ quy định rằng biến nào có tên viết bằng chữ in hoa thì đó là hằng, chúng ta không nên ghi đè giá trị của các biến có tên là chữ in hoa."
   ],
   "id": "400895c9cdb163ab"
  },
  {
   "metadata": {
    "jupyter": {
     "is_executing": true
    }
   },
   "cell_type": "code",
   "source": [
    "THIS_IS_AN_EXAMPLE_OF_A_CONSTANT_NAME = 8\n",
    "# Đừng bao giờ ghi đè giá trị của hằng như thế này nếu không muốn gây hiểu lầm cho người khác.\n",
    "THIS_IS_AN_EXAMPLE_OF_A_CONSTANT_NAME = 9\n",
    "# Nếu chương trình không bao giờ thay đổi giá trị của biến này, ta nên viết tên nó in hoa để đánh dấu nó thành một hằng.\n",
    "this_should_be_a_constant = 20"
   ],
   "id": "2bf3bc9d3c91b771",
   "outputs": [],
   "execution_count": null
  },
  {
   "metadata": {},
   "cell_type": "markdown",
   "source": "## III - Đối tượng",
   "id": "c781f9820f1f62b8"
  },
  {
   "metadata": {},
   "cell_type": "markdown",
   "source": [
    "Mọi dữ liệu trong Python đều là các đối tượng (object). Thông thường, các giá trị giống nhau sẽ là cùng một đối tượng nhưng điều này không phải lúc nào cũng đúng.  \n",
    "Một đối tượng có thể được nhiều tên biến và hằng khác nhau chỉ đến, điều này có nghĩa rằng tạo ra nhiều biến và hằng khác nhau với cùng giá trị có thể không dùng thêm bộ nhớ."
   ],
   "id": "7f1a7b93f627b60f"
  },
  {
   "metadata": {},
   "cell_type": "code",
   "outputs": [],
   "execution_count": null,
   "source": [
    "first_variable = 10\n",
    "second_variable = 10\n",
    "CONSTANT = 10\n",
    "# Nếu first_variable là cùng một đối tượng với second_variable\n",
    "# và chúng cũng là cùng một đối tượng với CONSTANT\n",
    "if first_variable is second_variable is CONSTANT:\n",
    "    # thì in ra:\n",
    "    print(\"Cả ba tên đều chỉ đến cùng một đối tượng.\")\n",
    "# Nếu không thì in ra:\n",
    "else: print(\"Ba cái tên này chỉ đến ba đối tượng khác nhau.\")\n",
    "# Chạy thử xem đoạn mã này nói gì nào!"
   ],
   "id": "b0368719872364c4"
  },
  {
   "metadata": {},
   "cell_type": "markdown",
   "source": [
    "Các đối tượng sẽ có cho mình một ID.  \n",
    "ID của từng đối tượng là độc nhất, một ID nhất định sẽ chỉ được sở hữu bởi một đối tượng.  \n",
    "Hàm **id** sẽ nhận vào một đối tượng và in ra ID của đối tượng đó."
   ],
   "id": "76eb515a45bf50ac"
  },
  {
   "metadata": {},
   "cell_type": "code",
   "outputs": [],
   "execution_count": null,
   "source": [
    "print(id(first_variable))\n",
    "print(id(second_variable)) # ID giống nhau, chứng tỏ rằng chúng là cùng một đối tượng\n",
    "print(id(3)) # Đối tượng khác sẽ có ID khác"
   ],
   "id": "33f82045a1fd8f76"
  },
  {
   "metadata": {},
   "cell_type": "markdown",
   "source": [
    "Các giá trị giống nhau thường là cùng một đối tượng.  \n",
    "Điều này luôn đúng với số nguyên nhưng không phải lúc nào cũng đúng với kiểu dữ liệu khác."
   ],
   "id": "b8ff4e029439d845"
  },
  {
   "metadata": {},
   "cell_type": "code",
   "outputs": [],
   "execution_count": null,
   "source": [
    "quz = \"hello\"\n",
    "quuz = \"hello\".lower()\n",
    "# Hai giá trị giống nhau, không có điểm khác biệt\n",
    "print(quz, quuz)\n",
    "# Hai ID khác nhau, chứng tỏ quz và quuz là hai đối tượng khác nhau dù có cùng giá trị.\n",
    "print(id(quz), id(quuz))"
   ],
   "id": "2d3cc977e2528739"
  }
 ],
 "metadata": {
  "kernelspec": {
   "display_name": "Python 3",
   "language": "python",
   "name": "python3"
  },
  "language_info": {
   "codemirror_mode": {
    "name": "ipython",
    "version": 2
   },
   "file_extension": ".py",
   "mimetype": "text/x-python",
   "name": "python",
   "nbconvert_exporter": "python",
   "pygments_lexer": "ipython2",
   "version": "2.7.6"
  }
 },
 "nbformat": 4,
 "nbformat_minor": 5
}
