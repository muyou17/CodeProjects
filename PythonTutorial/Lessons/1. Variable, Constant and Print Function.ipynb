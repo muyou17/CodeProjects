{
 "cells": [
  {
   "metadata": {},
   "cell_type": "markdown",
   "source": [
    "# Bài 1: Biến, Hằng và Hàm Print\n",
    "## I - Hàm print\n",
    "Có thể hiển thị một giá trị ra bảng lệnh bằng cách để giá trị đó vào trong dấu ngoặc của hàm print."
   ],
   "id": "101873f8b434b92f"
  },
  {
   "metadata": {},
   "cell_type": "code",
   "outputs": [],
   "execution_count": null,
   "source": "print(7) # Dòng lệnh này sẽ hiển thị số 7 ra bảng lệnh.",
   "id": "5dc1c43c99aa94cb"
  },
  {
   "metadata": {},
   "cell_type": "markdown",
   "source": [
    "## II - Biến\n",
    "### 1. Gán giá trị cho biến\n",
    "Biến là các từ khóa chứa giá trị, tương tự như định nghĩa trong toán học.  \n",
    "Để gán giá trị cho một biến, viết tên của biến và giá trị theo cú pháp: *tên biến* = *giá trị*.  \n",
    "Dấu = trong Python được gọi là dấu gán giá trị."
   ],
   "id": "73d1eff3f2f6cd53"
  },
  {
   "metadata": {},
   "cell_type": "code",
   "outputs": [],
   "execution_count": null,
   "source": [
    "x = 6 # Ở đây, một biến tên x đã được gán giá trị là số 6.\n",
    "print(x) # Khi ta in x ra bảng lệnh, bảng lệnh sẽ hiển thị số 6 vì x đang mang giá trị là 6."
   ],
   "id": "7c63dc96c7f358db"
  },
  {
   "metadata": {},
   "cell_type": "markdown",
   "source": [
    "### 2. Ghi đè giá trị\n",
    "Khi một biến đã có giá trị nhưng lại được gán thêm một giá trị khác thì biến đó sẽ bỏ qua giá trị cũ và mang giá trị mới."
   ],
   "id": "de70d2c7332fe03d"
  },
  {
   "metadata": {},
   "cell_type": "code",
   "outputs": [],
   "execution_count": null,
   "source": [
    "y = 2 # Gán cho biến y giá trị là 2.\n",
    "y = 4 # Gán giá trị cho biến y thành 4.\n",
    "# Số 4 được hiển thị ra bảng lệnh do sau khi được gán giá trị là 2,\n",
    "# biến y bị ghi đè giá trị thành 4 nên không còn mang giá trị 2 nữa.\n",
    "print(y) "
   ],
   "id": "43ebd827f174f8f8"
  },
  {
   "metadata": {},
   "cell_type": "markdown",
   "source": [
    "### 3. Quy tắc đặt tên biến\n",
    "#### a) Dấu cách và ký tự bắt đầu tên biến\n",
    "Tên biến không được chứa dấu cách và không được bắt đầu bằng số hay ký tự đặc biệt.  \n",
    "Để đặt tên biến gồm nhiều từ, ta sử dụng dấu gạch dưới để phân cách các từ."
   ],
   "id": "bb91842d6dd547cc"
  },
  {
   "metadata": {},
   "cell_type": "code",
   "outputs": [],
   "execution_count": null,
   "source": [
    "this_is_an_example_of_a_valid_variable_name = 0\n",
    "# đây là một tên biến không hợp lệ vì nó có chứa dấu cách\n",
    "# 1đây_là_một_tên_biến_không_hợp_lệ_vì_nó_bắt_đầu_bằng_số\n",
    "# !đây_là_một_tên_biến_không_hợp_lệ_vì_nó_bắt_đầu_bằng_ký_tự_đặc_biệt"
   ],
   "id": "6e4ea5573824f5b4"
  },
  {
   "metadata": {},
   "cell_type": "markdown",
   "source": [
    "#### b) Từ khóa đặc biệt\n",
    "Tên biến không được phép là các từ khóa đặc biệt mà Python sử dụng như None, True, False, class, def,…  \n",
    "Chúng ta sẽ học nhiều hơn về các từ khóa đặc biệt này trong các bài học sau.  \n",
    "Các từ khóa đặc biệt của Python sẽ được IDE tô màu khác với các từ thông thường.  \n",
    "Ví dụ: PyCharm sẽ tô màu các từ khóa đặc biệt thành màu cam, Visual Studio Code sẽ tô thành màu hồng hoặc xanh."
   ],
   "id": "6e7295e0a57c61c5"
  },
  {
   "metadata": {},
   "cell_type": "code",
   "outputs": [],
   "execution_count": null,
   "source": [
    "# Toàn bộ các dòng lệnh này đều sẽ lỗi.\n",
    "yield = 1\n",
    "async = 13\n",
    "assert = 29\n",
    "with = 4"
   ],
   "id": "8025a51154aeacc6"
  },
  {
   "metadata": {},
   "cell_type": "markdown",
   "source": [
    "#### c) Quy ước của lập trình viên\n",
    "Ngoài các quy tắc mà chúng ta bắt buộc phải tuân theo để chương trình có thể chạy thì Python còn có thêm các quy ước dù không tuân theo chương trình vẫn sẽ chạy nhưng một tên biến không tốt sẽ khiến cho chương trình chúng ta viết ra trở nên khó đọc khó hiểu hơn.  \n",
    "Nên nhớ rằng chương trình mà chúng ta viết không chỉ có máy chạy mà con người (chúng ta hoặc người khác) cũng cần phải đọc nó nữa."
   ],
   "id": "e722882eca9c1def"
  },
  {
   "metadata": {},
   "cell_type": "code",
   "outputs": [],
   "execution_count": null,
   "source": [
    "# Tên biến phải được viết bằng chữ in thường, không được là chữ in hoa.\n",
    "This_Is_A_Bad_Variable_Name = 1\n",
    "Do_not_name_your_variable_like_this = 2\n",
    "NEVER_NAME_YOUR_VARIABLE_LIKE_THIS = 3"
   ],
   "id": "50140ec5404f9098"
  },
  {
   "metadata": {},
   "cell_type": "code",
   "outputs": [],
   "execution_count": null,
   "source": [
    "# Không được viết dính các từ trong tên biến.\n",
    "dontnameyourvariablelikethis = 4"
   ],
   "id": "1798901d7d7f87bb"
  },
  {
   "metadata": {},
   "cell_type": "code",
   "outputs": [],
   "execution_count": null,
   "source": [
    "# Tên biến nên chi tiết và chỉ ra biến đó là gì, đừng đặt quá ngắn gọn.\n",
    "# Ví dụ: khi ta cần một biến để lưu số lượng quả táo nằm trong giỏ thì ta nên nói rõ điều đó trong tên biến.\n",
    "amount_of_apples_in_basket = 10\n",
    "# Nếu viết ngắn gọn quá mức như thế này thì không ai có thể hiểu được số 10 là giá trị của cái gì cả.\n",
    "n = 10"
   ],
   "id": "c09fdb27548fb670"
  },
  {
   "metadata": {},
   "cell_type": "code",
   "outputs": [],
   "execution_count": null,
   "source": [
    "# Dù ta có thể viết tên biến bằng bất cứ ngôn ngữ nào nhưng nên sử dụng tiếng Anh\n",
    "# để chương trình có thể được đọc bởi mọi người vì đó là ngôn ngữ quốc tế.\n",
    "đừng_đặt_tên_biến_bằng_tiếng_Việt = 5"
   ],
   "id": "d503208d13116a4d"
  },
  {
   "metadata": {},
   "cell_type": "markdown",
   "source": [
    "## III - Hằng\n",
    "Hằng cũng là từ khóa chứa giá trị như biến, nhưng giá trị của hằng không bị thay đổi như biến."
   ],
   "id": "ab6cacf73418bf13"
  },
  {
   "metadata": {},
   "cell_type": "code",
   "outputs": [],
   "execution_count": null,
   "source": "X = 9 # X một khi đã được gán giá trị 9 thì không bao giờ được thay đổi thành số khác.",
   "id": "eaa7da27cc0db36a"
  },
  {
   "metadata": {},
   "cell_type": "markdown",
   "source": "Thực chất thì hằng chỉ tồn tại trong ngôn ngữ lập trình khác, không có trong Python.",
   "id": "25dec1b474da6add"
  },
  {
   "metadata": {},
   "cell_type": "code",
   "outputs": [],
   "execution_count": null,
   "source": [
    "X = 10 # Gán giá trị 10 cho X\n",
    "X = 11 # Ghi đè giá trị của X thành 11\n",
    "print(X) # X vẫn bị ghi đè vì thực chất nó vẫn là biến, không phải hằng."
   ],
   "id": "7351c45607e1455d"
  },
  {
   "metadata": {},
   "cell_type": "markdown",
   "source": [
    "Tuy nhiên, hằng đôi lúc vẫn cần thiết trong lập trình để các lập trình viên có thể tự tin cho rằng giá trị của cái tên này sẽ luôn như cũ, không bao giờ bị ghi đè.  \n",
    "Vì thế, họ quy định rằng biến nào có tên viết bằng chữ in hoa thì đó là hằng, chúng ta không nên ghi đè gi trị của các biến có tên là chữ in hoa."
   ],
   "id": "400895c9cdb163ab"
  },
  {
   "metadata": {
    "jupyter": {
     "is_executing": true
    }
   },
   "cell_type": "code",
   "source": [
    "THIS_IS_AN_EXAMPLE_OF_A_CONSTANT_NAME = 8\n",
    "THIS_IS_AN_EXAMPLE_OF_A_CONSTANT_NAME = 9 # Đừng bao giờ ghi đè giá trị của hằng như thế này nếu không muốn gây hiểu lầm cho người khác.\n",
    "this_should_be_a_constant = 20 # Nếu chương trình không bao giờ thay đổi giá trị của biến này, ta nên viết tên nó in hoa để đánh dấu nó thành một hằng."
   ],
   "id": "2bf3bc9d3c91b771",
   "outputs": [],
   "execution_count": null
  },
  {
   "metadata": {},
   "cell_type": "markdown",
   "source": "Biến và hằng có thể gọi chung là đối tượng.",
   "id": "7f1a7b93f627b60f"
  }
 ],
 "metadata": {
  "kernelspec": {
   "display_name": "Python 3",
   "language": "python",
   "name": "python3"
  },
  "language_info": {
   "codemirror_mode": {
    "name": "ipython",
    "version": 2
   },
   "file_extension": ".py",
   "mimetype": "text/x-python",
   "name": "python",
   "nbconvert_exporter": "python",
   "pygments_lexer": "ipython2",
   "version": "2.7.6"
  }
 },
 "nbformat": 4,
 "nbformat_minor": 5
}
