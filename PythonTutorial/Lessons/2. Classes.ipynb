{
 "cells": [
  {
   "metadata": {},
   "cell_type": "markdown",
   "source": "# Bài 2: Lớp",
   "id": "8e567451f96278b2"
  },
  {
   "metadata": {},
   "cell_type": "markdown",
   "source": "## I - Lớp",
   "id": "d3103e28636d6ecb"
  },
  {
   "metadata": {},
   "cell_type": "markdown",
   "source": [
    "Trong bài 1, đa số các đối tượng đều là số nguyên. Trên thực tế, ngoài số nguyên ra thì đối tượng còn có thể ở nhiều dạng khác.  \n",
    "Các dạng đối tượng khác nhau sẽ thuộc về các lớp khác nhau.  \n",
    "Ta có thể kiểm tra lớp của các đối tượng bằng cách sử dụng hàm **type**."
   ],
   "id": "328a677f7a297285"
  },
  {
   "cell_type": "code",
   "id": "initial_id",
   "metadata": {
    "collapsed": true
   },
   "source": [
    "print(type(5)) # Giá trị 5 có lớp là int (số nguyên).\n",
    "print(type(\"Hello world!\")) # Giá trị \"Hello world!\" có lớp là str (chuỗi ký tự). "
   ],
   "outputs": [],
   "execution_count": null
  },
  {
   "metadata": {},
   "cell_type": "markdown",
   "source": "## II - Đối tượng đơn lẻ",
   "id": "982b2936aa2b5ec0"
  },
  {
   "metadata": {},
   "cell_type": "markdown",
   "source": "Đối tượng đơn lẻ là một thể thống nhất, không chứa đối tượng nào khác bên trong, không thể phân tách thành từng phần.",
   "id": "12636719e06e7f90"
  },
  {
   "metadata": {},
   "cell_type": "markdown",
   "source": "### 1. Số nguyên (int)",
   "id": "cefb0c9979f3d6b6"
  },
  {
   "metadata": {},
   "cell_type": "markdown",
   "source": "int (integer) là các số nguyên như 5, -17, 10000, 99, -4.  ",
   "id": "5b0c5ac91b5ed83e"
  },
  {
   "metadata": {},
   "cell_type": "code",
   "source": [
    "# Các giá trị này đều thuộc về lớp int\n",
    "print(type(-17))\n",
    "print(type(10000))\n",
    "x = -4\n",
    "print(type(x))"
   ],
   "id": "14b5289c6e2899fb",
   "outputs": [],
   "execution_count": null
  },
  {
   "metadata": {},
   "cell_type": "markdown",
   "source": "Giá trị mặc định của int là 0. Nghĩa rằng **int**() khi không thêm tham số sẽ trả về 0.",
   "id": "90ba78ef32193655"
  },
  {
   "metadata": {},
   "cell_type": "code",
   "outputs": [],
   "execution_count": null,
   "source": [
    "z = int()\n",
    "print(z)"
   ],
   "id": "879e01cdea270d4b"
  },
  {
   "metadata": {},
   "cell_type": "markdown",
   "source": "Hàm **abs** (absolute value) dùng để lấy giá trị tuyệt đối của một số.",
   "id": "473b508c104a08aa"
  },
  {
   "metadata": {},
   "cell_type": "code",
   "outputs": [],
   "execution_count": null,
   "source": [
    "print(abs(67)) # Giữ nguyên giá trị\n",
    "print(abs(-3)) # -3 chuyển thành 3"
   ],
   "id": "8d99004e14641039"
  },
  {
   "metadata": {},
   "cell_type": "markdown",
   "source": [
    "Hàm **max** nhận vào nhiều số và trả về số có giá trị lớn nhất.  \n",
    "Hàm **min** nhận vào nhiều số và trả về số có giá trị bé nhất.  "
   ],
   "id": "5175c22269fe8bb7"
  },
  {
   "metadata": {},
   "cell_type": "code",
   "outputs": [],
   "execution_count": null,
   "source": [
    "print(max(9, 3, 27, -18, 4))\n",
    "print(min(7, 83, abs(-9), 2))"
   ],
   "id": "6a24d8c1ba424f1e"
  },
  {
   "metadata": {},
   "cell_type": "markdown",
   "source": "### 2. Số thực (float)",
   "id": "7cd12d738519b91e"
  },
  {
   "metadata": {},
   "cell_type": "markdown",
   "source": "float (floating-point number) là các số thực như 2.8, 1.99, -3.678.",
   "id": "45e9bae7f9b111b8"
  },
  {
   "metadata": {},
   "cell_type": "code",
   "source": [
    "print(type(5.7))\n",
    "print(type(-99.36))\n",
    "PI = 3.141592653589793\n",
    "print(type(PI))"
   ],
   "id": "358bf39818fe96b7",
   "outputs": [],
   "execution_count": null
  },
  {
   "metadata": {},
   "cell_type": "markdown",
   "source": "Giá trị mặc định của float là 0.0.",
   "id": "d9bb0229977da506"
  },
  {
   "metadata": {},
   "cell_type": "code",
   "outputs": [],
   "execution_count": null,
   "source": "print(float())",
   "id": "10a9bbebaf96d88d"
  },
  {
   "metadata": {},
   "cell_type": "markdown",
   "source": "Hàm **round** dùng để làm tròn một số đến giá trị gần nhất.",
   "id": "41f36d0dde6328c1"
  },
  {
   "metadata": {},
   "cell_type": "code",
   "outputs": [],
   "execution_count": null,
   "source": [
    "print(round(9.5))\n",
    "print(round(PI))"
   ],
   "id": "343a2979c85ce5b8"
  },
  {
   "metadata": {},
   "cell_type": "markdown",
   "source": "### 3. Số phức (complex)",
   "id": "293ac3a06da61b82"
  },
  {
   "metadata": {},
   "cell_type": "markdown",
   "source": [
    "complex (complex number) là các số phức gồm phần thực và phần ảo.  \n",
    "Khác với trong toán học, Python không sử dụng chữ i cho số ảo mà dùng chữ j."
   ],
   "id": "95e8f33e3df265ea"
  },
  {
   "metadata": {},
   "cell_type": "code",
   "source": [
    "print(type(6j))\n",
    "print(type(7+5j))\n",
    "print(type(3.14+2.7j))"
   ],
   "id": "f3407afa5222efca",
   "outputs": [],
   "execution_count": null
  },
  {
   "metadata": {},
   "cell_type": "markdown",
   "source": "Giá trị mặc định của complex là 0j.",
   "id": "ccab4a9ed6af8ea4"
  },
  {
   "metadata": {},
   "cell_type": "code",
   "outputs": [],
   "execution_count": null,
   "source": "print(complex())",
   "id": "4262d33852bc3007"
  },
  {
   "metadata": {},
   "cell_type": "markdown",
   "source": [
    "Ta có thể lấy ra phần thực và phần ảo của một số phức thông qua thuộc tính real và imag.  \n",
    "Kết quả sẽ là một float."
   ],
   "id": "4de43af0520925f6"
  },
  {
   "metadata": {},
   "cell_type": "code",
   "outputs": [],
   "execution_count": null,
   "source": [
    "complex_number = 3+2j\n",
    "print(complex_number.real)\n",
    "print(complex_number.imag)"
   ],
   "id": "483ba668a67461ea"
  },
  {
   "metadata": {},
   "cell_type": "markdown",
   "source": "### 4. Chân trị (bool)",
   "id": "c163b1301420a84e"
  },
  {
   "metadata": {},
   "cell_type": "markdown",
   "source": "bool (Boolean value) là các giá trị **True** (đúng) hoặc **False** (sai).",
   "id": "f6bb4ed9446e541e"
  },
  {
   "metadata": {},
   "cell_type": "code",
   "source": [
    "print(type(True))\n",
    "print(type(False))"
   ],
   "id": "f4431dfbdc3d0756",
   "outputs": [],
   "execution_count": null
  },
  {
   "metadata": {},
   "cell_type": "markdown",
   "source": "Giá trị mặc định của bool là **False**.",
   "id": "57902eea8326ea80"
  },
  {
   "metadata": {},
   "cell_type": "code",
   "outputs": [],
   "execution_count": null,
   "source": "print(bool())",
   "id": "2426395c353ae88e"
  },
  {
   "metadata": {},
   "cell_type": "markdown",
   "source": "### 5. Không lớp (NoneType)",
   "id": "1a510fdca746d2ca"
  },
  {
   "metadata": {},
   "cell_type": "markdown",
   "source": [
    "Trong Python, giá trị duy nhất không có lớp là **None** (không giá trị).  \n",
    "Các biến mang giá trị **None** là các biến không có giá trị, nên cũng không có lớp."
   ],
   "id": "941ee6c2074c6a11"
  },
  {
   "metadata": {},
   "cell_type": "code",
   "source": [
    "x = None\n",
    "print(type(x))"
   ],
   "id": "a479640fcedce0ee",
   "outputs": [],
   "execution_count": null
  },
  {
   "metadata": {},
   "cell_type": "markdown",
   "source": "## II - Đối tượng phức hợp",
   "id": "537875be3034a24a"
  },
  {
   "metadata": {},
   "cell_type": "markdown",
   "source": [
    "Đối tượng phức hợp là các đối tượng chứa nhiều đối tượng khác bên trong nó.  \n",
    "Các đối tượng nằm bên trong giá trị phức hợp được gọi là các phần tử.  \n",
    "Giá trị mặc định của các đối tượng phức hợp là dạng trống rỗng (không chứa phần tử) của chúng.  \n",
    "Các đối tượng phức hợp ngoài chứa phần tử ra thì còn có các phương pháp là những hàm đặc biệt của riêng lớp của chúng.  \n",
    "Cú pháp để sử dụng phương pháp: *đối_tượng*.*phương_pháp*(*tham_số_nếu_có*)"
   ],
   "id": "cdc3b74f2680dfe0"
  },
  {
   "metadata": {},
   "cell_type": "markdown",
   "source": "### 1. Bộ (tuple)",
   "id": "c35cc9d8ff7a4d69"
  },
  {
   "metadata": {},
   "cell_type": "markdown",
   "source": [
    "tuple là một bộ dữ liệu có thể chứa nhiều đối tượng bên trong nó, gồm cả đối tượng đơn lẻ lẫn phức hợp.  \n",
    "Ta có thể gọi ra các phần tử bên trong một tuple thông qua chỉ số của phần tử đó.  \n",
    "Các chỉ số sẽ bắt đầu từ 0 và tăng dần, nghĩa là phần tử đầu tiên sẽ có chỉ số là 0, phần tử tiếp theo là 1,…  \n",
    "tuple có tính bất biến, nghĩa là ta không thể thay đổi các phần tử bên trong tuple."
   ],
   "id": "1fd1e364a64578cf"
  },
  {
   "metadata": {},
   "cell_type": "markdown",
   "source": "#### a) Cú pháp",
   "id": "9e218cf204790758"
  },
  {
   "metadata": {},
   "cell_type": "markdown",
   "source": [
    "Cú pháp để khởi tạo một tuple rỗng: () hoặc **tuple**()  \n",
    "Cú pháp để khởi tạo một tuple với một phần tử: (*giá_trị*,)\n",
    "Cú pháp để khởi tạo một tuple gồm nhiều phần tử: (*các_giá_trị*)"
   ],
   "id": "d6e0bff97b586ba2"
  },
  {
   "metadata": {},
   "cell_type": "code",
   "source": [
    "# Có thể tạo một tuple có giá trị mà không cần ngoặc\n",
    "tuple_with_one_element = 69,\n",
    "tuple_of_numbers = 3, 2.7, -7, 34+9j\n",
    "print(type(tuple_with_one_element), type(tuple_of_numbers), sep='\\n')\n",
    "# Vì tuple có thể chứa cả giá trị phức hợp nên ta có thể để tuple bên trong tuple.\n",
    "tuple_of_tuples = ((3, 7), (9, (23, -6), 8), (), 44.88)\n",
    "# Để dễ nhìn cho người đọc, ta nên để các giá trị của tuple bên trong ngoặc tròn.\n",
    "bad_tuple = 2, 7\n",
    "good_tuple = (3, 14)"
   ],
   "id": "fa0a33ea5e911c8d",
   "outputs": [],
   "execution_count": null
  },
  {
   "metadata": {},
   "cell_type": "markdown",
   "source": "Cú pháp để lấy ra giá trị của phần tử trong tuple: tuple[*chỉ_số*]",
   "id": "a0d7f4c1ec735c64"
  },
  {
   "metadata": {},
   "cell_type": "code",
   "source": [
    "tuple_of_numbers = (8.6, 26, -9, 7)\n",
    "print(tuple_of_numbers[0]) # In ra phần tử đầu tiên, tức là phần tử có chỉ số 0.\n",
    "print(tuple_of_numbers[2]) # In ra phần tử thứ ba, tức là phần tử có chỉ số 2."
   ],
   "id": "aff98a4a64cfbae0",
   "outputs": [],
   "execution_count": null
  },
  {
   "metadata": {},
   "cell_type": "markdown",
   "source": "#### b) Hàm **len**",
   "id": "68c2264b2e2e40ec"
  },
  {
   "metadata": {},
   "cell_type": "markdown",
   "source": "**len**() dùng để đếm số lượng phần tử bên trong tuple.",
   "id": "d788f3887308e0e1"
  },
  {
   "metadata": {},
   "cell_type": "code",
   "outputs": [],
   "execution_count": null,
   "source": [
    "print(len(tuple_of_numbers))\n",
    "print(len(tuple_of_tuples))"
   ],
   "id": "dd8c46a30c6ae0b1"
  },
  {
   "metadata": {},
   "cell_type": "markdown",
   "source": [
    "Ngoài chỉ số đi xuôi (đi từ 0 và tăng dần) thì ta còn có thế dùng chỉ số đi ngược (đi từ -1 và giảm dần) để chỉ đến phần tử bên trong tuple.  \n",
    "Chỉ số đi ngược của một phần tử là chỉ số đi xuôi của phần tử đó trừ cho độ dài của tuple."
   ],
   "id": "c96c54e4d0ee1857"
  },
  {
   "metadata": {},
   "cell_type": "code",
   "outputs": [],
   "execution_count": null,
   "source": [
    "tuple_of_characters = ('a', 'b', 'c', 'd')\n",
    "print(tuple_of_characters[-1]) # In ra phần tử cuối cùng\n",
    "print(tuple_of_characters[-4]) # In ra phần tử đầu tiên, có chỉ số là 0 - len(tuple_of_characters)\n",
    "print(tuple_of_characters[-2]) # In ra phần tử gần cuối với chỉ số 2 - len(tuple_of_characters)"
   ],
   "id": "e555058d5b4157db"
  },
  {
   "metadata": {},
   "cell_type": "markdown",
   "source": "#### c) tuple.**count**() và tuple.**index**()",
   "id": "88d621426b1ad6cd"
  },
  {
   "metadata": {},
   "cell_type": "markdown",
   "source": "Ta có thể đếm số lần một giá trị xuất hiện bên trong một tuple bằng phương pháp **count**.",
   "id": "6f528e16e4156b6f"
  },
  {
   "metadata": {},
   "cell_type": "code",
   "outputs": [],
   "execution_count": null,
   "source": [
    "x = 2.0\n",
    "example_tuple = (1, 2, 3, 4, 1, 2, 3, x)\n",
    "print(example_tuple.count(2))\n",
    "print(example_tuple.count(4))"
   ],
   "id": "e6f2f8f46dcfe097"
  },
  {
   "metadata": {},
   "cell_type": "markdown",
   "source": [
    "Phương pháp **index** dùng để tìm chỉ số của một giá trị bên trong tuple.  \n",
    "Nếu giá trị được tìm xuất hiện nhiều lần bên trong tuple, tuple.**index**() sẽ trả về chỉ số của giá trị xuất hiện đầu tiên.  \n",
    "Nếu giá trị được tìm không nằm trong tuple thì xảy ra lỗi giá trị (ValueError).  \n",
    "Ta có thể dùng thêm tham số start và stop để bắt đầu từ giá trị từ chỉ số start đến chỉ số stop - 1.  \n",
    "Lưu ý: tuple.**index**() không thể sử dụng chỉ số đi ngược."
   ],
   "id": "96751a4114d80d38"
  },
  {
   "metadata": {},
   "cell_type": "code",
   "outputs": [],
   "execution_count": null,
   "source": [
    "print(example_tuple.index(4)) # Trả về chỉ số của giá trị 4 trong tuple\n",
    "print(example_tuple.index(3)) # Trả về lần xuất hiện đầu tiên của giá trị 3\n",
    "print(example_tuple.index(2, 2, 7)) # Tìm trong khoảng chỉ số từ 2 đến 6\n",
    "print(example_tuple.index(2, 7)) # Bắt đầu tìm từ chỉ số 7 đến cuối tuple"
   ],
   "id": "fb8bc24214179ccf"
  },
  {
   "metadata": {},
   "cell_type": "code",
   "outputs": [],
   "execution_count": null,
   "source": "print(example_tuple.index(0)) # Dòng này sẽ lỗi vì không có giá trị bên trong tuple",
   "id": "4a16c0206e41fbc1"
  },
  {
   "metadata": {},
   "cell_type": "markdown",
   "source": "#### d) Cắt lát",
   "id": "f63c64a40b1b9db5"
  },
  {
   "metadata": {},
   "cell_type": "markdown",
   "source": [
    "Ngoài việc lấy ra một phần tử thì ta còn có thể cắt lát một tuple ra để lấy ra nhiều phần tử cùng một lúc.  \n",
    "Kết quả sau khi cắt lát là một tuple mới chứa các phần tử đi từ chỉ số bắt đầu đến phần tử nằm trước chỉ số kết thúc.  \n",
    "Cú pháp: tuple[*chỉ_số_bắt_đầu*:*chỉ_số_kết_thúc*:*bước_nhảy*]  \n",
    "Khi bỏ trống một hay nhiều phần trong cú pháp thì Python sẽ tự lấy giá trị mặc định của chúng."
   ],
   "id": "a479ad97c0e8ce90"
  },
  {
   "metadata": {},
   "cell_type": "code",
   "outputs": [],
   "execution_count": null,
   "source": [
    "print(example_tuple[1:4:1]) # Lát cắt chứa các giá trị nằm ở chỉ số 1, 2 và 3.\n",
    "print(example_tuple[2:6:1]) # Lát cắt chứa các giá trị ở chỉ số 2, 3, 4 và 5."
   ],
   "id": "ebe45651fcb1b4e5"
  },
  {
   "metadata": {},
   "cell_type": "markdown",
   "source": [
    "Bước nhảy là số lượng phần tử mà con trỏ nhảy qua mỗi lần lấy một phần tử.  \n",
    "Nghĩa là với số bước là k, lát cắt sẽ lấy 1 phần tử trong mỗi k phần tử.  \n",
    "Giá trị mặc định của số bước là 1."
   ],
   "id": "9b12df64dc1ebd68"
  },
  {
   "metadata": {},
   "cell_type": "code",
   "outputs": [],
   "execution_count": null,
   "source": [
    "print(example_tuple[0:7:2])  # Lát cắt chứa các giá trị nằm ở chỉ số 0, 2, 4 và 6.\n",
    "print(example_tuple[0:7:3])  # Lát cắt chứa các giá trị nằm ở chỉ số 0, 3, 6.\n",
    "print(example_tuple[7:0:-1]) # Lát cắt chứa các giá trị nằm ở chỉ số 7, 6, 5, 4, 3, 2, 1"
   ],
   "id": "f12929b59f51ec75"
  },
  {
   "metadata": {},
   "cell_type": "code",
   "outputs": [],
   "execution_count": null,
   "source": [
    "# Số bước mặc định là 1 nên nếu bỏ qua thì lát cắt sẽ lấy hết chứ không nhảy phần tử.\n",
    "print(example_tuple[0:7])\n",
    "print(example_tuple[4:8])"
   ],
   "id": "1cd5d9cf4e4f13c3"
  },
  {
   "metadata": {},
   "cell_type": "code",
   "outputs": [],
   "execution_count": null,
   "source": "print(example_tuple[0:0:0]) # Lỗi vì số bước không thể là 0.",
   "id": "e8d5b7c95679274e"
  },
  {
   "metadata": {},
   "cell_type": "markdown",
   "source": [
    "Giá trị mặc định của chỉ số bắt đầu là 0.  \n",
    "Giá trị mặc định của chỉ số kết thúc là len(tuple)."
   ],
   "id": "bf28934d545dad8f"
  },
  {
   "metadata": {},
   "cell_type": "code",
   "outputs": [],
   "execution_count": null,
   "source": [
    "print(example_tuple[:7:2]) # [0:7:2]\n",
    "print(example_tuple[::3]) # [0:8:3]\n",
    "print(example_tuple[2:]) # [2:8:1]"
   ],
   "id": "6e65abd1ccd1147f"
  },
  {
   "metadata": {},
   "cell_type": "markdown",
   "source": "#### e) Kết hợp",
   "id": "5807305ab93b7920"
  },
  {
   "metadata": {},
   "cell_type": "markdown",
   "source": "Ta có thể kết hợp hai tuple lại bằng dấu cộng.",
   "id": "e3d99e1f8ac0c549"
  },
  {
   "metadata": {},
   "cell_type": "code",
   "outputs": [],
   "execution_count": null,
   "source": [
    "example_tuple = (1, 2, 3)\n",
    "print(example_tuple + example_tuple)\n",
    "print(example_tuple + example_tuple[0:1])\n",
    "print(example_tuple + (69, 420))"
   ],
   "id": "a37be96bf9fcfed7"
  },
  {
   "metadata": {},
   "cell_type": "markdown",
   "source": "Có thể lặp lại phần tử trong một tuple bằng cách nhân nó với một số nguyên.",
   "id": "5c0d82f49e33fe23"
  },
  {
   "metadata": {},
   "cell_type": "code",
   "outputs": [],
   "execution_count": null,
   "source": "print(example_tuple * 3)",
   "id": "272a7f62df070ad2"
  },
  {
   "metadata": {},
   "cell_type": "markdown",
   "source": "#### f) **all**() và **any**()",
   "id": "34c0c03db64af145"
  },
  {
   "metadata": {},
   "cell_type": "markdown",
   "source": "Khi ta đặt một tuple chứa các giá trị bool vào hàm **all**, giá trị trả về sẽ là **True** nếu tất cả phần tử trong tuple đều là **True**",
   "id": "9bfa4e8d3b32a779"
  },
  {
   "metadata": {},
   "cell_type": "code",
   "outputs": [],
   "execution_count": null,
   "source": [
    "print(all((True, True)))\n",
    "print(all((True ^ False, True, False or True, True, True, ~False)))\n",
    "print(all((True & True, True, False and True, True, ~False))) # Chỉ cần có một giá trị False liền sẽ trả về False."
   ],
   "id": "ee5bf66d50f60a87"
  },
  {
   "metadata": {},
   "cell_type": "markdown",
   "source": "Hàm **any** cũng tương tự như **all**(), nhưng chỉ cần có ít nhất một giá trị **True** là sẽ trả về **True**.",
   "id": "5279f4e73502a863"
  },
  {
   "metadata": {},
   "cell_type": "code",
   "outputs": [],
   "execution_count": null,
   "source": [
    "print(any((True, False, False)))\n",
    "print(any((False, False | True, True ^ True, ~True)))\n",
    "print(any((not True, False, False or False)))"
   ],
   "id": "61039e022dd33cfd"
  },
  {
   "metadata": {},
   "cell_type": "markdown",
   "source": "### 2. Danh sách (list)",
   "id": "a25779872bcd524d"
  },
  {
   "metadata": {},
   "cell_type": "markdown",
   "source": [
    "list là danh sách chứa giá trị có các tính chất tương tự như tuple.  \n",
    "Điểm khác biệt chính giữa hai lớp này là giá trị của list không bất biến như tuple.  \n",
    "Điều này có nghĩa rằng list cung cấp cho chúng ta thêm nhiều phương pháp để thay đổi giá trị bên trong nó.  "
   ],
   "id": "e6db04bc0a9be2e2"
  },
  {
   "metadata": {},
   "cell_type": "markdown",
   "source": "#### a) Cú pháp",
   "id": "6b45f5e8f00ec1e"
  },
  {
   "metadata": {},
   "cell_type": "markdown",
   "source": [
    "Cú pháp để khởi tạo một list rỗng: [] hoặc list()  \n",
    "Cú pháp để khởi tạo một list có phần tử: [*các_phần_tử*]"
   ],
   "id": "1a2e0fa289ef319"
  },
  {
   "metadata": {},
   "cell_type": "code",
   "outputs": [],
   "execution_count": null,
   "source": [
    "example_list = []\n",
    "print(type(example_list))"
   ],
   "id": "f49501e49f38ce93"
  },
  {
   "metadata": {},
   "cell_type": "code",
   "outputs": [],
   "execution_count": null,
   "source": [
    "example_list = [2, 4, 6]\n",
    "print(example_list + [1, 2])\n",
    "print(example_list * 4)"
   ],
   "id": "6e2da77fb7b5491"
  },
  {
   "metadata": {},
   "cell_type": "code",
   "outputs": [],
   "execution_count": null,
   "source": "print(example_list + (1, 2)) # Lỗi vì không cùng lớp",
   "id": "4c57bbae5627d187"
  },
  {
   "metadata": {},
   "cell_type": "code",
   "outputs": [],
   "execution_count": null,
   "source": [
    "print(example_list.count(4))\n",
    "print(example_list.index(6))"
   ],
   "id": "ea0eb2398a834a5"
  },
  {
   "metadata": {},
   "cell_type": "code",
   "outputs": [],
   "execution_count": null,
   "source": [
    "print([2, 4, 6] + [1, 3, 5])\n",
    "print(example_list * 2)"
   ],
   "id": "67bb82611acaa577"
  },
  {
   "metadata": {},
   "cell_type": "markdown",
   "source": "#### b) list.**append**(), list.**insert**() và list.**extend**()",
   "id": "94eb170dee7b3470"
  },
  {
   "metadata": {},
   "cell_type": "markdown",
   "source": "Phương pháp **append** dùng để thêm phần tử vào cuối list.",
   "id": "2b84cf6a0130a54a"
  },
  {
   "metadata": {},
   "cell_type": "code",
   "outputs": [],
   "execution_count": null,
   "source": [
    "example_list.append(8)\n",
    "print(example_list)"
   ],
   "id": "45a827ce2eb578c3"
  },
  {
   "metadata": {},
   "cell_type": "markdown",
   "source": [
    "Phương pháp **insert** dùng để thêm phần tử vào một vị trí cụ thể trong list thông qua chỉ số.  \n",
    "Các phần tử nằm sau phần tử vừa được thêm vào sẽ lùi về sau 1 chỉ số.  \n",
    "Cú pháp: list.**insert**(*chỉ_số*, *giá_trị*)"
   ],
   "id": "e0347538d3e876b9"
  },
  {
   "metadata": {},
   "cell_type": "code",
   "outputs": [],
   "execution_count": null,
   "source": [
    "example_list.insert(0, 0)\n",
    "print(example_list)\n",
    "example_list.insert(3, 3)\n",
    "print(example_list)"
   ],
   "id": "ca5e4a2e7e4c3eee"
  },
  {
   "metadata": {},
   "cell_type": "markdown",
   "source": "Phương pháp **extend** có công dụng tương tự như list.**append**(), nhưng nhận vào một giá trị phức hợp thay vì một giá trị cơ bản.",
   "id": "4963fa2a14540ed1"
  },
  {
   "metadata": {},
   "cell_type": "code",
   "outputs": [],
   "execution_count": null,
   "source": [
    "example_list.extend(example_tuple)\n",
    "print(example_list)"
   ],
   "id": "4b98cf813b3dd5c9"
  },
  {
   "metadata": {},
   "cell_type": "code",
   "outputs": [],
   "execution_count": null,
   "source": [
    "my_list = [1, 3, 5]\n",
    "my_list.append(7)\n",
    "print(my_list)\n",
    "my_list.extend([9, 11, 13])\n",
    "print(my_list)\n",
    "my_list.insert(1, 2)\n",
    "print(my_list)\n",
    "my_list.extend((4, 6, 8))\n",
    "print(my_list)"
   ],
   "id": "455884861db64a66"
  },
  {
   "metadata": {},
   "cell_type": "markdown",
   "source": "#### c) list.**pop**(), list.**remove**() and list.**clear**()",
   "id": "b495626a97496c4e"
  },
  {
   "metadata": {},
   "cell_type": "markdown",
   "source": [
    "Phương pháp **pop** dùng để xóa phần tử nằm ở chỉ số đã liệt kê ra khỏi list.  \n",
    "Nếu chỉ số nằm ngoài list, xảy ra IndexError."
   ],
   "id": "ad285188290925ab"
  },
  {
   "metadata": {},
   "cell_type": "code",
   "outputs": [],
   "execution_count": null,
   "source": [
    "# Số 2 đang nằm ở chỉ số 1 sẽ bị xóa khỏi list\n",
    "my_list.pop(1)\n",
    "print(my_list)"
   ],
   "id": "e2b569d5d65b60a5"
  },
  {
   "metadata": {},
   "cell_type": "code",
   "outputs": [],
   "execution_count": null,
   "source": [
    "# IndexError vì không có phần tử ở chỉ số 20\n",
    "my_list.pop(20)"
   ],
   "id": "fbf8c8372ba76294"
  }
 ],
 "metadata": {
  "kernelspec": {
   "display_name": "Python 3",
   "language": "python",
   "name": "python3"
  },
  "language_info": {
   "codemirror_mode": {
    "name": "ipython",
    "version": 2
   },
   "file_extension": ".py",
   "mimetype": "text/x-python",
   "name": "python",
   "nbconvert_exporter": "python",
   "pygments_lexer": "ipython2",
   "version": "2.7.6"
  }
 },
 "nbformat": 4,
 "nbformat_minor": 5
}
