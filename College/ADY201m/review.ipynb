{
 "cells": [
  {
   "cell_type": "code",
   "id": "28f2afff8cad5386",
   "metadata": {},
   "source": [
    "import requests\n",
    "import json"
   ],
   "outputs": [],
   "execution_count": null
  },
  {
   "metadata": {},
   "cell_type": "code",
   "source": [
    "url = \"https://msh-appdata.cafef.vn/rest-api/api/v1/MatchPrice?symbol=VNM&date=20240913\"\n",
    "response = requests.get(url)"
   ],
   "id": "3dad8b61dd677470",
   "outputs": [],
   "execution_count": null
  },
  {
   "metadata": {
    "collapsed": true
   },
   "cell_type": "code",
   "source": [
    "# Phân tích dữ liệu JSON\n",
    "parsed_data = response.json()\n",
    "\n",
    "# Truy cập và in dữ liệu aggregates\n",
    "print(\"Aggregates:\")\n",
    "for aggregate in parsed_data[\"aggregates\"]:\n",
    "    print(f\"Price: {aggregate['price']}, Total Volume: {aggregate['totalVolume']}, Volume Percent: {aggregate['volPercent']}\")\n",
    "\n",
    "# Truy cập và in dữ liệu trade\n",
    "print(\"\\nTrade Data:\")\n",
    "for trade in parsed_data[\"data\"]:\n",
    "    print(f\"Symbol: {trade['symbol']}, Trade Date: {trade['tradeDate']}, Basic Price: {trade['basicPrice']}, Price: {trade['price']}, Volume: {trade['volume']}, Total Volume: {trade['totalVolume']}, Total Value: {trade['totalValue']}\")"
   ],
   "id": "initial_id",
   "outputs": [],
   "execution_count": null
  },
  {
   "metadata": {},
   "cell_type": "code",
   "source": [
    "data = DataFrame(parsed_data[\"data\"])\n",
    "print(data.head)"
   ],
   "id": "d286591d5b807240",
   "outputs": [],
   "execution_count": null
  },
  {
   "metadata": {},
   "cell_type": "code",
   "source": "pl.scatter(data, data['price'], data['volume'])",
   "id": "7151251d4757b3ec",
   "outputs": [],
   "execution_count": null
  },
  {
   "metadata": {},
   "cell_type": "code",
   "source": [
    "from requests import get\n",
    "from pandas import DataFrame\n",
    "\n",
    "link = \"https://s.cafef.vn/Ajax/PageNew/DataHistory/PriceHistory.ashx?Symbol=FPT&StartDate=01/01/2023&EndDate=01/01/2024\"\n",
    "parsed_data = get(link).json()['Data']\n",
    "data = DataFrame(parsed_data['Data'])\n",
    "print(data.head)"
   ],
   "id": "cd74538451d0b594",
   "outputs": [],
   "execution_count": null
  },
  {
   "metadata": {},
   "cell_type": "code",
   "outputs": [],
   "execution_count": null,
   "source": "",
   "id": "7ce1ae5b7e8890f0"
  },
  {
   "metadata": {},
   "cell_type": "markdown",
   "source": [
    "#### Tổng quan:\n",
    "- Dữ liệu bao gồm thông tin về giá cổ phiếu từ ngày 04/12/2023 đến 08/10/2024.\n",
    "- Có sự tăng giá đáng kể trong khoảng thời gian này.\n",
    "\n",
    "\n",
    "#### Xu hướng giá:\n",
    "- Giá mở cửa vào ngày 04/12/2023 là 80.83 (tương đương 93.6 sau điều chỉnh).\n",
    "- Giá đóng cửa vào ngày 08/10/2024 là 133.80, cho thấy sự tăng trưởng mạnh mẽ.\n",
    "- Tăng trưởng khoảng 43% trong khoảng thời gian này.\n",
    "\n",
    "#### Biến động giá:\n",
    "- Giá có xu hướng tăng dần từ tháng 12/2023 đến cuối tháng 12/2023.\n",
    "- Có một số biến động trong tháng 12, với mức giảm đáng kể vào ngày 18/12/2023 (-2.29%).\n",
    "- Giá cao nhất trong tháng 12/2023 là 97.2 vào ngày 26/12/2023.\n",
    "\n",
    "#### Khối lượng giao dịch:\n",
    "- Khối lượng giao dịch biến động từ khoảng 1.2 triệu đến 4 triệu cổ phiếu mỗi ngày.\n",
    "- Ngày có khối lượng giao dịch cao nhất là 12/12/2023 với 4,084,900 cổ phiếu.\n",
    "\n",
    "\n",
    "#### Điểm đáng chú ý:\n",
    "\n",
    "- Có sự tăng giá đột biến từ 96.1 (29/12/2023) lên 133.80 (08/10/2024), tăng khoảng 39% trong khoảng 9 tháng.\n",
    "- Khối lượng giao dịch vào ngày 08/10/2024 (2,108,600) cao hơn trung bình, cho thấy sự quan tâm của nhà đầu tư.\n",
    "\n",
    "\n",
    "#### Kết luận:\n",
    "- Cổ phiếu này có xu hướng tăng giá mạnh trong khoảng thời gian được phân tích.\n",
    "- Có thể có những sự kiện hoặc thông tin quan trọng ảnh hưởng đến giá cổ phiếu, đặc biệt là trong khoảng thời gian từ cuối tháng 12/2023 đến tháng 10/2024."
   ],
   "id": "3beedc8741063158"
  }
 ],
 "metadata": {
  "kernelspec": {
   "display_name": "Python 3",
   "language": "python",
   "name": "python3"
  },
  "language_info": {
   "codemirror_mode": {
    "name": "ipython",
    "version": 2
   },
   "file_extension": ".py",
   "mimetype": "text/x-python",
   "name": "python",
   "nbconvert_exporter": "python",
   "pygments_lexer": "ipython2",
   "version": "2.7.6"
  }
 },
 "nbformat": 4,
 "nbformat_minor": 5
}
