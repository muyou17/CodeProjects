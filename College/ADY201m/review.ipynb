{
 "cells": [
  {
   "cell_type": "code",
   "id": "28f2afff8cad5386",
   "metadata": {},
   "source": [
    "import requests\n",
    "import json"
   ],
   "outputs": [],
   "execution_count": null
  },
  {
   "metadata": {},
   "cell_type": "code",
   "source": [
    "url = \"https://msh-appdata.cafef.vn/rest-api/api/v1/MatchPrice?symbol=VNM&date=20240913\"\n",
    "response = requests.get(url)"
   ],
   "id": "3dad8b61dd677470",
   "outputs": [],
   "execution_count": null
  },
  {
   "metadata": {
    "collapsed": true
   },
   "cell_type": "code",
   "source": [
    "# Phân tích dữ liệu JSON\n",
    "parsed_data = response.json()\n",
    "\n",
    "# Truy cập và in dữ liệu aggregates\n",
    "print(\"Aggregates:\")\n",
    "for aggregate in parsed_data[\"aggregates\"]:\n",
    "    print(f\"Price: {aggregate['price']}, Total Volume: {aggregate['totalVolume']}, Volume Percent: {aggregate['volPercent']}\")\n",
    "\n",
    "# Truy cập và in dữ liệu trade\n",
    "print(\"\\nTrade Data:\")\n",
    "for trade in parsed_data[\"data\"]:\n",
    "    print(f\"Symbol: {trade['symbol']}, Trade Date: {trade['tradeDate']}, Basic Price: {trade['basicPrice']}, Price: {trade['price']}, Volume: {trade['volume']}, Total Volume: {trade['totalVolume']}, Total Value: {trade['totalValue']}\")"
   ],
   "id": "initial_id",
   "outputs": [],
   "execution_count": null
  },
  {
   "metadata": {},
   "cell_type": "code",
   "source": [
    "data = DataFrame(parsed_data[\"data\"])\n",
    "print(data.head)"
   ],
   "id": "d286591d5b807240",
   "outputs": [],
   "execution_count": null
  },
  {
   "metadata": {},
   "cell_type": "code",
   "source": "pl.scatter(data, data['price'], data['volume'])",
   "id": "7151251d4757b3ec",
   "outputs": [],
   "execution_count": null
  },
  {
   "metadata": {
    "ExecuteTime": {
     "end_time": "2024-10-12T16:35:23.062162Z",
     "start_time": "2024-10-12T16:35:21.907598Z"
    }
   },
   "cell_type": "code",
   "source": [
    "from requests import get\n",
    "from pandas import DataFrame\n",
    "\n",
    "link = \"https://s.cafef.vn/Ajax/PageNew/DataHistory/PriceHistory.ashx?Symbol=FPT&StartDate=01/01/2023&EndDate=01/01/2024\"\n",
    "parsed_data = get(link).json()['Data']\n",
    "data = DataFrame(parsed_data['Data'])\n",
    "print(data.head)"
   ],
   "id": "cd74538451d0b594",
   "outputs": [
    {
     "name": "stdout",
     "output_type": "stream",
     "text": [
      "<bound method NDFrame.head of           Ngay  GiaDieuChinh  GiaDongCua        ThayDoi  KhoiLuongKhopLenh  \\\n",
      "0   29/12/2023         82.99        96.1  -0.5(-0.52 %)            1866600   \n",
      "1   28/12/2023         83.42        96.6  -0.3(-0.31 %)            1196600   \n",
      "2   27/12/2023         83.68        96.9  -0.3(-0.31 %)            1355900   \n",
      "3   26/12/2023         83.94        97.2    1.2(1.25 %)            3359900   \n",
      "4   25/12/2023         82.91        96.0    1.4(1.48 %)            2017000   \n",
      "5   22/12/2023         81.70        94.6  -0.5(-0.53 %)            1275400   \n",
      "6   21/12/2023         82.13        95.1    0.4(0.42 %)            1756800   \n",
      "7   20/12/2023         81.78        94.7    0.1(0.11 %)            1349500   \n",
      "8   19/12/2023         81.70        94.6    0.6(0.64 %)            1250400   \n",
      "9   18/12/2023         81.18        94.0  -2.2(-2.29 %)            2266500   \n",
      "10  15/12/2023         83.08        96.2      0(0.00 %)            1474300   \n",
      "11  14/12/2023         83.08        96.2      1(1.05 %)            1712300   \n",
      "12  13/12/2023         82.21        95.2  -1.6(-1.65 %)            2148100   \n",
      "13  12/12/2023         83.60        96.8    1.8(1.89 %)            4084900   \n",
      "14  11/12/2023         82.04        95.0    0.8(0.85 %)            1564500   \n",
      "15  08/12/2023         81.35        94.2  -0.1(-0.11 %)            1745800   \n",
      "16  07/12/2023         81.44        94.3  -0.7(-0.74 %)            3761200   \n",
      "17  06/12/2023         82.04        95.0    0.2(0.21 %)            1220700   \n",
      "18  05/12/2023         81.87        94.8    1.2(1.28 %)            3590200   \n",
      "19  04/12/2023         80.83        93.6    1.2(1.30 %)            3462300   \n",
      "\n",
      "    GiaTriKhopLenh  KLThoaThuan   GtThoaThuan  GiaMoCua  GiaCaoNhat  \\\n",
      "0     180080000000       572925   59183152500      96.6        97.0   \n",
      "1     115551000000       394600   39389560000      97.0        97.0   \n",
      "2     131870000000       935800   97323200000      97.4        97.8   \n",
      "3     327874000000       330001   32120089300      96.5        98.6   \n",
      "4     193001000000       722800   66219600000      94.9        96.2   \n",
      "5     120765000000       445900   45348030000      95.0        95.1   \n",
      "6     165881000000       225442   22837274600      94.6        95.1   \n",
      "7     127490000000      3667000  353814180000      94.3        95.0   \n",
      "8     117521000000       910923   90786281500      93.9        94.6   \n",
      "9     214399000000      4293400  418528100000      95.9        96.2   \n",
      "10    141250000000       915101   94163879500      96.2        96.3   \n",
      "11    163967000000      4414536  446882545000      95.8        96.4   \n",
      "12    206460000000      2545369  263445691500      97.4        97.4   \n",
      "13    393398000000      1218188  123226580800      95.4        96.8   \n",
      "14    148856000000       257300   25910110000      95.5        95.7   \n",
      "15    164616000000       218370   21885443000      94.3        95.1   \n",
      "16    352100000000      1279730  129834568000      95.1        95.3   \n",
      "17    115606000000       885400   89618920000      95.0        95.4   \n",
      "18    340743000000        81500    7721500000      93.8        95.8   \n",
      "19    323128000000       214103   19756492000      92.6        94.0   \n",
      "\n",
      "    GiaThapNhat  \n",
      "0          96.1  \n",
      "1          96.3  \n",
      "2          96.9  \n",
      "3          96.4  \n",
      "4          94.8  \n",
      "5          94.4  \n",
      "6          94.0  \n",
      "7          94.1  \n",
      "8          93.6  \n",
      "9          93.7  \n",
      "10         95.0  \n",
      "11         95.2  \n",
      "12         95.2  \n",
      "13         95.3  \n",
      "14         94.6  \n",
      "15         93.5  \n",
      "16         92.8  \n",
      "17         94.1  \n",
      "18         93.7  \n",
      "19         92.6  >\n"
     ]
    }
   ],
   "execution_count": 1
  },
  {
   "metadata": {},
   "cell_type": "code",
   "outputs": [],
   "execution_count": null,
   "source": "",
   "id": "7ce1ae5b7e8890f0"
  },
  {
   "metadata": {},
   "cell_type": "markdown",
   "source": [
    "#### Tổng quan:\n",
    "- Dữ liệu bao gồm thông tin về giá cổ phiếu từ ngày 04/12/2023 đến 08/10/2024.\n",
    "- Có sự tăng giá đáng kể trong khoảng thời gian này.\n",
    "\n",
    "\n",
    "#### Xu hướng giá:\n",
    "- Giá mở cửa vào ngày 04/12/2023 là 80.83 (tương đương 93.6 sau điều chỉnh).\n",
    "- Giá đóng cửa vào ngày 08/10/2024 là 133.80, cho thấy sự tăng trưởng mạnh mẽ.\n",
    "- Tăng trưởng khoảng 43% trong khoảng thời gian này.\n",
    "\n",
    "#### Biến động giá:\n",
    "- Giá có xu hướng tăng dần từ tháng 12/2023 đến cuối tháng 12/2023.\n",
    "- Có một số biến động trong tháng 12, với mức giảm đáng kể vào ngày 18/12/2023 (-2.29%).\n",
    "- Giá cao nhất trong tháng 12/2023 là 97.2 vào ngày 26/12/2023.\n",
    "\n",
    "#### Khối lượng giao dịch:\n",
    "- Khối lượng giao dịch biến động từ khoảng 1.2 triệu đến 4 triệu cổ phiếu mỗi ngày.\n",
    "- Ngày có khối lượng giao dịch cao nhất là 12/12/2023 với 4,084,900 cổ phiếu.\n",
    "\n",
    "\n",
    "#### Điểm đáng chú ý:\n",
    "\n",
    "- Có sự tăng giá đột biến từ 96.1 (29/12/2023) lên 133.80 (08/10/2024), tăng khoảng 39% trong khoảng 9 tháng.\n",
    "- Khối lượng giao dịch vào ngày 08/10/2024 (2,108,600) cao hơn trung bình, cho thấy sự quan tâm của nhà đầu tư.\n",
    "\n",
    "\n",
    "#### Kết luận:\n",
    "- Cổ phiếu này có xu hướng tăng giá mạnh trong khoảng thời gian được phân tích.\n",
    "- Có thể có những sự kiện hoặc thông tin quan trọng ảnh hưởng đến giá cổ phiếu, đặc biệt là trong khoảng thời gian từ cuối tháng 12/2023 đến tháng 10/2024."
   ],
   "id": "3beedc8741063158"
  }
 ],
 "metadata": {
  "kernelspec": {
   "display_name": "Python 3",
   "language": "python",
   "name": "python3"
  },
  "language_info": {
   "codemirror_mode": {
    "name": "ipython",
    "version": 2
   },
   "file_extension": ".py",
   "mimetype": "text/x-python",
   "name": "python",
   "nbconvert_exporter": "python",
   "pygments_lexer": "ipython2",
   "version": "2.7.6"
  }
 },
 "nbformat": 4,
 "nbformat_minor": 5
}
